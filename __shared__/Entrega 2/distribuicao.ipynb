{
 "cells": [
  {
   "cell_type": "code",
   "execution_count": 1,
   "id": "0faa33ee-19dc-4b09-b295-0647b507df2e",
   "metadata": {
    "execution": {
     "iopub.execute_input": "2025-03-24T13:13:08.238593Z",
     "iopub.status.busy": "2025-03-24T13:13:08.237802Z",
     "iopub.status.idle": "2025-03-24T13:13:10.507530Z",
     "shell.execute_reply": "2025-03-24T13:13:10.506069Z",
     "shell.execute_reply.started": "2025-03-24T13:13:08.238531Z"
    }
   },
   "outputs": [
    {
     "data": {
      "text/html": [
       "\n",
       "    <script src=\"/static/.hidden/netpixi.min.js\"></script>\n"
      ],
      "text/plain": [
       "<IPython.core.display.HTML object>"
      ]
     },
     "metadata": {},
     "output_type": "display_data"
    }
   ],
   "source": [
    "import netpixi\n",
    "import graph_tool_extras as gte\n",
    "import distribution as dst\n",
    "\n",
    "from itertools import combinations\n",
    "from random import random"
   ]
  },
  {
   "cell_type": "code",
   "execution_count": 2,
   "id": "07b48a21-c49d-4f53-9560-658b6dfc1afd",
   "metadata": {
    "execution": {
     "iopub.execute_input": "2025-03-24T13:13:10.518591Z",
     "iopub.status.busy": "2025-03-24T13:13:10.517003Z",
     "iopub.status.idle": "2025-03-24T13:13:10.524467Z",
     "shell.execute_reply": "2025-03-24T13:13:10.522906Z",
     "shell.execute_reply.started": "2025-03-24T13:13:10.518539Z"
    }
   },
   "outputs": [],
   "source": [
    "# netpixi.render('entrega1.net.gz');"
   ]
  },
  {
   "cell_type": "code",
   "execution_count": 3,
   "id": "a4b29774-cff3-44df-9f7f-be2c33a77009",
   "metadata": {
    "execution": {
     "iopub.execute_input": "2025-03-24T13:13:20.262389Z",
     "iopub.status.busy": "2025-03-24T13:13:20.261357Z",
     "iopub.status.idle": "2025-03-24T13:13:20.326581Z",
     "shell.execute_reply": "2025-03-24T13:13:20.325382Z",
     "shell.execute_reply.started": "2025-03-24T13:13:20.262346Z"
    }
   },
   "outputs": [],
   "source": [
    "g = gte.load('../entrega1.net.gz')"
   ]
  },
  {
   "cell_type": "code",
   "execution_count": 4,
   "id": "c5651c59-86e0-4c5f-982e-59a77beb467c",
   "metadata": {
    "execution": {
     "iopub.execute_input": "2025-03-24T13:13:20.861728Z",
     "iopub.status.busy": "2025-03-24T13:13:20.861012Z",
     "iopub.status.idle": "2025-03-24T13:13:20.871433Z",
     "shell.execute_reply": "2025-03-24T13:13:20.869035Z",
     "shell.execute_reply.started": "2025-03-24T13:13:20.861672Z"
    }
   },
   "outputs": [],
   "source": [
    "degrees = g.get_total_degrees()"
   ]
  },
  {
   "cell_type": "code",
   "execution_count": 5,
   "id": "dbeb24a1-af02-4dca-8350-817b3348ddb1",
   "metadata": {
    "execution": {
     "iopub.execute_input": "2025-03-24T13:13:21.365236Z",
     "iopub.status.busy": "2025-03-24T13:13:21.363808Z",
     "iopub.status.idle": "2025-03-24T13:13:21.381139Z",
     "shell.execute_reply": "2025-03-24T13:13:21.379763Z",
     "shell.execute_reply.started": "2025-03-24T13:13:21.365192Z"
    }
   },
   "outputs": [
    {
     "data": {
      "text/plain": [
       "count    330.000000\n",
       "mean       4.551515\n",
       "std        8.249827\n",
       "min        1.000000\n",
       "25%        1.000000\n",
       "50%        2.000000\n",
       "75%        4.000000\n",
       "max       52.000000\n",
       "dtype: float64"
      ]
     },
     "execution_count": 5,
     "metadata": {},
     "output_type": "execute_result"
    }
   ],
   "source": [
    "degrees.describe()"
   ]
  },
  {
   "cell_type": "code",
   "execution_count": 6,
   "id": "fe911643-cbcb-49f9-9da3-f82598c0af6b",
   "metadata": {
    "execution": {
     "iopub.execute_input": "2025-03-24T13:14:27.671701Z",
     "iopub.status.busy": "2025-03-24T13:14:27.671059Z",
     "iopub.status.idle": "2025-03-24T13:14:27.850579Z",
     "shell.execute_reply": "2025-03-24T13:14:27.849501Z",
     "shell.execute_reply.started": "2025-03-24T13:14:27.671649Z"
    }
   },
   "outputs": [
    {
     "data": {
      "image/png": "[encoded data removed]",
      "text/plain": [
       "<Figure size 640x480 with 1 Axes>"
      ]
     },
     "metadata": {},
     "output_type": "display_data"
    }
   ],
   "source": [
    "degrees.hist();"
   ]
  },
  {
   "cell_type": "code",
   "execution_count": 19,
   "id": "336a9683-4dea-43a2-8b03-a57916815ab7",
   "metadata": {
    "execution": {
     "iopub.execute_input": "2025-03-19T13:43:08.732003Z",
     "iopub.status.busy": "2025-03-19T13:43:08.730234Z",
     "iopub.status.idle": "2025-03-19T13:43:08.754268Z",
     "shell.execute_reply": "2025-03-19T13:43:08.753091Z",
     "shell.execute_reply.started": "2025-03-19T13:43:08.731920Z"
    }
   },
   "outputs": [
    {
     "data": {
      "text/html": [
       "\n",
       "        <div id=\"Duei5HhMRpVeNuQMtMmwXg\"></div>\n",
       "        <script>netpixi.call('Duei5HhMRpVeNuQMtMmwXg', '8RFH9w5pyRjjMZaBJeChiL', 'changeGraph', 'eyJ0eXBlIjogInNldHRpbmdzIiwgInByb3BzIjogeyJ2ZXJ0ZXgiOiB7InNpemUiOiA4LCAiYndpZHRoIjogMX19fQo=');</script>\n",
       "    "
      ],
      "text/plain": [
       "<IPython.core.display.HTML object>"
      ]
     },
     "metadata": {},
     "output_type": "display_data"
    },
    {
     "data": {
      "text/html": [
       "\n",
       "        <div id=\"3JKgJTGcNyUp8cLfut3zh8\"></div>\n",
       "        <script>netpixi.call('3JKgJTGcNyUp8cLfut3zh8', '8RFH9w5pyRjjMZaBJeChiL', 'changeGraph', 'eyJ0eXBlIjogInNldHRpbmdzIiwgInByb3BzIjogeyJlZGdlIjogeyJ3aWR0aCI6IDAuNX19fQo=');</script>\n",
       "    "
      ],
      "text/plain": [
       "<IPython.core.display.HTML object>"
      ]
     },
     "metadata": {},
     "output_type": "display_data"
    }
   ],
   "source": [
    "r.vertex_default(size=8, bwidth=1)\n",
    "r.edge_default(width=0.5)"
   ]
  },
  {
   "cell_type": "code",
   "execution_count": null,
   "id": "8a6a6f09-b0b8-4720-852f-46c45138eb0c",
   "metadata": {},
   "outputs": [],
   "source": []
  }
 ],
 "metadata": {
  "kernelspec": {
   "display_name": "Python 3 (ipykernel)",
   "language": "python",
   "name": "python3"
  },
  "language_info": {
   "codemirror_mode": {
    "name": "ipython",
    "version": 3
   },
   "file_extension": ".py",
   "mimetype": "text/x-python",
   "name": "python",
   "nbconvert_exporter": "python",
   "pygments_lexer": "ipython3",
   "version": "3.13.1"
  }
 },
 "nbformat": 4,
 "nbformat_minor": 5
}
