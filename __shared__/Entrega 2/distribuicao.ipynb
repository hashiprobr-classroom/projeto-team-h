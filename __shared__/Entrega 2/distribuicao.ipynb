{
 "cells": [
  {
   "cell_type": "code",
   "execution_count": 1,
   "id": "0faa33ee-19dc-4b09-b295-0647b507df2e",
   "metadata": {
    "execution": {
     "iopub.execute_input": "2025-05-14T13:22:51.459034Z",
     "iopub.status.busy": "2025-05-14T13:22:51.457881Z",
     "iopub.status.idle": "2025-05-14T13:22:54.142573Z",
     "shell.execute_reply": "2025-05-14T13:22:54.141604Z",
     "shell.execute_reply.started": "2025-05-14T13:22:51.459001Z"
    }
   },
   "outputs": [
    {
     "data": {
      "text/html": [
       "\n",
       "    <script src=\"/static/.hidden/netpixi.min.js\"></script>\n"
      ],
      "text/plain": [
       "<IPython.core.display.HTML object>"
      ]
     },
     "metadata": {},
     "output_type": "display_data"
    }
   ],
   "source": [
    "import netpixi\n",
    "import graph_tool_extras as gte\n",
    "import distribution as dst\n",
    "\n",
    "from itertools import combinations\n",
    "from random import random"
   ]
  },
  {
   "cell_type": "code",
   "execution_count": 2,
   "id": "07b48a21-c49d-4f53-9560-658b6dfc1afd",
   "metadata": {
    "execution": {
     "iopub.execute_input": "2025-05-14T13:22:54.144622Z",
     "iopub.status.busy": "2025-05-14T13:22:54.143817Z",
     "iopub.status.idle": "2025-05-14T13:22:54.149992Z",
     "shell.execute_reply": "2025-05-14T13:22:54.148644Z",
     "shell.execute_reply.started": "2025-05-14T13:22:54.144586Z"
    }
   },
   "outputs": [],
   "source": [
    "# netpixi.render('entrega1.net.gz');"
   ]
  },
  {
   "cell_type": "code",
   "execution_count": 3,
   "id": "a4b29774-cff3-44df-9f7f-be2c33a77009",
   "metadata": {
    "execution": {
     "iopub.execute_input": "2025-05-14T13:22:54.152258Z",
     "iopub.status.busy": "2025-05-14T13:22:54.151199Z",
     "iopub.status.idle": "2025-05-14T13:22:54.227191Z",
     "shell.execute_reply": "2025-05-14T13:22:54.226391Z",
     "shell.execute_reply.started": "2025-05-14T13:22:54.152222Z"
    }
   },
   "outputs": [],
   "source": [
    "g = gte.load('../entrega1.net.gz')"
   ]
  },
  {
   "cell_type": "code",
   "execution_count": 4,
   "id": "c5651c59-86e0-4c5f-982e-59a77beb467c",
   "metadata": {
    "execution": {
     "iopub.execute_input": "2025-05-14T13:22:54.231968Z",
     "iopub.status.busy": "2025-05-14T13:22:54.231048Z",
     "iopub.status.idle": "2025-05-14T13:22:54.237896Z",
     "shell.execute_reply": "2025-05-14T13:22:54.236576Z",
     "shell.execute_reply.started": "2025-05-14T13:22:54.231939Z"
    }
   },
   "outputs": [],
   "source": [
    "degrees = g.get_total_degrees()"
   ]
  },
  {
   "cell_type": "code",
   "execution_count": 5,
   "id": "dbeb24a1-af02-4dca-8350-817b3348ddb1",
   "metadata": {
    "execution": {
     "iopub.execute_input": "2025-05-14T13:22:54.239563Z",
     "iopub.status.busy": "2025-05-14T13:22:54.239117Z",
     "iopub.status.idle": "2025-05-14T13:22:54.269306Z",
     "shell.execute_reply": "2025-05-14T13:22:54.268036Z",
     "shell.execute_reply.started": "2025-05-14T13:22:54.239526Z"
    }
   },
   "outputs": [
    {
     "data": {
      "text/plain": [
       "count    315.000000\n",
       "mean       4.768254\n",
       "std        9.413042\n",
       "min        1.000000\n",
       "25%        1.000000\n",
       "50%        2.000000\n",
       "75%        4.000000\n",
       "max       60.000000\n",
       "dtype: float64"
      ]
     },
     "execution_count": 5,
     "metadata": {},
     "output_type": "execute_result"
    }
   ],
   "source": [
    "degrees.describe()"
   ]
  },
  {
   "cell_type": "code",
   "execution_count": 6,
   "id": "fe911643-cbcb-49f9-9da3-f82598c0af6b",
   "metadata": {
    "execution": {
     "iopub.execute_input": "2025-05-14T13:22:55.060024Z",
     "iopub.status.busy": "2025-05-14T13:22:55.058191Z",
     "iopub.status.idle": "2025-05-14T13:22:55.293692Z",
     "shell.execute_reply": "2025-05-14T13:22:55.292466Z",
     "shell.execute_reply.started": "2025-05-14T13:22:55.059976Z"
    }
   },
   "outputs": [
    {
     "data": {
      "image/png": "[encoded data removed]",
      "text/plain": [
       "<Figure size 640x480 with 1 Axes>"
      ]
     },
     "metadata": {},
     "output_type": "display_data"
    }
   ],
   "source": [
    "degrees.hist();"
   ]
  },
  {
   "cell_type": "code",
   "execution_count": 7,
   "id": "336a9683-4dea-43a2-8b03-a57916815ab7",
   "metadata": {
    "execution": {
     "iopub.execute_input": "2025-05-14T13:22:55.978539Z",
     "iopub.status.busy": "2025-05-14T13:22:55.977008Z",
     "iopub.status.idle": "2025-05-14T13:22:56.264628Z",
     "shell.execute_reply": "2025-05-14T13:22:56.262153Z",
     "shell.execute_reply.started": "2025-05-14T13:22:55.978492Z"
    }
   },
   "outputs": [
    {
     "ename": "NameError",
     "evalue": "name 'r' is not defined",
     "output_type": "error",
     "traceback": [
      "\u001b[0;31m---------------------------------------------------------------------------\u001b[0m",
      "\u001b[0;31mNameError\u001b[0m                                 Traceback (most recent call last)",
      "Cell \u001b[0;32mIn[7], line 1\u001b[0m\n\u001b[0;32m----> 1\u001b[0m \u001b[43mr\u001b[49m\u001b[38;5;241m.\u001b[39mvertex_default(size\u001b[38;5;241m=\u001b[39m\u001b[38;5;241m8\u001b[39m, bwidth\u001b[38;5;241m=\u001b[39m\u001b[38;5;241m1\u001b[39m)\n\u001b[1;32m      2\u001b[0m r\u001b[38;5;241m.\u001b[39medge_default(width\u001b[38;5;241m=\u001b[39m\u001b[38;5;241m0.5\u001b[39m)\n",
      "\u001b[0;31mNameError\u001b[0m: name 'r' is not defined"
     ]
    }
   ],
   "source": [
    "r.vertex_default(size=8, bwidth=1)\n",
    "r.edge_default(width=0.5)"
   ]
  },
  {
   "cell_type": "code",
   "execution_count": null,
   "id": "8a6a6f09-b0b8-4720-852f-46c45138eb0c",
   "metadata": {},
   "outputs": [],
   "source": []
  }
 ],
 "metadata": {
  "kernelspec": {
   "display_name": "Python 3 (ipykernel)",
   "language": "python",
   "name": "python3"
  },
  "language_info": {
   "codemirror_mode": {
    "name": "ipython",
    "version": 3
   },
   "file_extension": ".py",
   "mimetype": "text/x-python",
   "name": "python",
   "nbconvert_exporter": "python",
   "pygments_lexer": "ipython3",
   "version": "3.13.1"
  }
 },
 "nbformat": 4,
 "nbformat_minor": 5
}
