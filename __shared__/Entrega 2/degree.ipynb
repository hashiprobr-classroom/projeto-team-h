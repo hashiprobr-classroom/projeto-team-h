{
 "cells": [
  {
   "cell_type": "code",
   "execution_count": 1,
   "id": "0faa33ee-19dc-4b09-b295-0647b507df2e",
   "metadata": {
    "execution": {
     "iopub.execute_input": "2025-05-14T13:22:11.990575Z",
     "iopub.status.busy": "2025-05-14T13:22:11.989885Z",
     "iopub.status.idle": "2025-05-14T13:22:14.405586Z",
     "shell.execute_reply": "2025-05-14T13:22:14.404819Z",
     "shell.execute_reply.started": "2025-05-14T13:22:11.990542Z"
    }
   },
   "outputs": [
    {
     "data": {
      "text/html": [
       "\n",
       "    <script src=\"/static/.hidden/netpixi.min.js\"></script>\n"
      ],
      "text/plain": [
       "<IPython.core.display.HTML object>"
      ]
     },
     "metadata": {},
     "output_type": "display_data"
    }
   ],
   "source": [
    "import netpixi\n",
    "import graph_tool_extras as gte\n",
    "\n",
    "from graph_tool import centrality"
   ]
  },
  {
   "cell_type": "code",
   "execution_count": 2,
   "id": "07b48a21-c49d-4f53-9560-658b6dfc1afd",
   "metadata": {
    "execution": {
     "iopub.execute_input": "2025-05-14T13:22:14.407698Z",
     "iopub.status.busy": "2025-05-14T13:22:14.407094Z",
     "iopub.status.idle": "2025-05-14T13:22:14.412654Z",
     "shell.execute_reply": "2025-05-14T13:22:14.411246Z",
     "shell.execute_reply.started": "2025-05-14T13:22:14.407672Z"
    }
   },
   "outputs": [],
   "source": [
    "# netpixi.render('entrega1.net.gz');"
   ]
  },
  {
   "cell_type": "code",
   "execution_count": 3,
   "id": "a4b29774-cff3-44df-9f7f-be2c33a77009",
   "metadata": {
    "execution": {
     "iopub.execute_input": "2025-05-14T13:22:14.415976Z",
     "iopub.status.busy": "2025-05-14T13:22:14.414089Z",
     "iopub.status.idle": "2025-05-14T13:22:14.500495Z",
     "shell.execute_reply": "2025-05-14T13:22:14.499368Z",
     "shell.execute_reply.started": "2025-05-14T13:22:14.415938Z"
    }
   },
   "outputs": [],
   "source": [
    "g = gte.load('../entrega1.net.gz')\n",
    "c = gte.total_degree(g)\n",
    "\n",
    "g.add_vp('degree', c)"
   ]
  },
  {
   "cell_type": "code",
   "execution_count": 4,
   "id": "c5651c59-86e0-4c5f-982e-59a77beb467c",
   "metadata": {
    "execution": {
     "iopub.execute_input": "2025-05-14T13:22:14.502873Z",
     "iopub.status.busy": "2025-05-14T13:22:14.501984Z",
     "iopub.status.idle": "2025-05-14T13:22:14.585823Z",
     "shell.execute_reply": "2025-05-14T13:22:14.584547Z",
     "shell.execute_reply.started": "2025-05-14T13:22:14.502835Z"
    }
   },
   "outputs": [],
   "source": [
    "gte.save(g, 'degree.net.gz')"
   ]
  },
  {
   "cell_type": "code",
   "execution_count": 5,
   "id": "dbeb24a1-af02-4dca-8350-817b3348ddb1",
   "metadata": {
    "execution": {
     "iopub.execute_input": "2025-05-14T13:22:14.587130Z",
     "iopub.status.busy": "2025-05-14T13:22:14.586779Z",
     "iopub.status.idle": "2025-05-14T13:22:14.602089Z",
     "shell.execute_reply": "2025-05-14T13:22:14.595442Z",
     "shell.execute_reply.started": "2025-05-14T13:22:14.587097Z"
    }
   },
   "outputs": [
    {
     "data": {
      "text/html": [
       "\n",
       "        <div id=\"UcThrmHvQ446LwUSV3EkXi\"></div>\n",
       "        <script>netpixi.render('UcThrmHvQ446LwUSV3EkXi', '/static/__shared__/Entrega 2/degree.net.gz', 1.7777777777777777, true, false, false, true);</script>\n",
       "    "
      ],
      "text/plain": [
       "<IPython.core.display.HTML object>"
      ]
     },
     "metadata": {},
     "output_type": "display_data"
    }
   ],
   "source": [
    "r = netpixi.render('degree.net.gz')"
   ]
  },
  {
   "cell_type": "code",
   "execution_count": 6,
   "id": "fe911643-cbcb-49f9-9da3-f82598c0af6b",
   "metadata": {
    "execution": {
     "iopub.execute_input": "2025-05-14T13:22:14.603715Z",
     "iopub.status.busy": "2025-05-14T13:22:14.603330Z",
     "iopub.status.idle": "2025-05-14T13:22:14.617571Z",
     "shell.execute_reply": "2025-05-14T13:22:14.616221Z",
     "shell.execute_reply.started": "2025-05-14T13:22:14.603678Z"
    }
   },
   "outputs": [
    {
     "data": {
      "text/html": [
       "\n",
       "        <div id=\"KhswJL9F7cQZjkoxhTgwXB\"></div>\n",
       "        <script>netpixi.call('KhswJL9F7cQZjkoxhTgwXB', 'UcThrmHvQ446LwUSV3EkXi', 'normalizeGraph', 'eyJ0eXBlIjogInZlcnRleCIsICJwcm9wcyI6IHsic3JjIjogImRlZ3JlZSIsICJtaW4iOiAxMCwgIm1heCI6IDMwfX0K');</script>\n",
       "    "
      ],
      "text/plain": [
       "<IPython.core.display.HTML object>"
      ]
     },
     "metadata": {},
     "output_type": "display_data"
    }
   ],
   "source": [
    "r.vertex_scale('degree', 10, 30)"
   ]
  },
  {
   "cell_type": "code",
   "execution_count": 7,
   "id": "336a9683-4dea-43a2-8b03-a57916815ab7",
   "metadata": {
    "execution": {
     "iopub.execute_input": "2025-05-14T13:22:14.991939Z",
     "iopub.status.busy": "2025-05-14T13:22:14.991071Z",
     "iopub.status.idle": "2025-05-14T13:22:15.002022Z",
     "shell.execute_reply": "2025-05-14T13:22:15.000907Z",
     "shell.execute_reply.started": "2025-05-14T13:22:14.991898Z"
    }
   },
   "outputs": [
    {
     "data": {
      "text/html": [
       "\n",
       "        <div id=\"ZknhauR2AwpkgvceUmMECt\"></div>\n",
       "        <script>netpixi.call('ZknhauR2AwpkgvceUmMECt', 'UcThrmHvQ446LwUSV3EkXi', 'changeGraph', 'eyJ0eXBlIjogInNldHRpbmdzIiwgInByb3BzIjogeyJ2ZXJ0ZXgiOiB7InNpemUiOiA4LCAiYndpZHRoIjogMX19fQo=');</script>\n",
       "    "
      ],
      "text/plain": [
       "<IPython.core.display.HTML object>"
      ]
     },
     "metadata": {},
     "output_type": "display_data"
    },
    {
     "data": {
      "text/html": [
       "\n",
       "        <div id=\"44QoFVoJbgrX48qVHEKT23\"></div>\n",
       "        <script>netpixi.call('44QoFVoJbgrX48qVHEKT23', 'UcThrmHvQ446LwUSV3EkXi', 'changeGraph', 'eyJ0eXBlIjogInNldHRpbmdzIiwgInByb3BzIjogeyJlZGdlIjogeyJ3aWR0aCI6IDAuNX19fQo=');</script>\n",
       "    "
      ],
      "text/plain": [
       "<IPython.core.display.HTML object>"
      ]
     },
     "metadata": {},
     "output_type": "display_data"
    }
   ],
   "source": [
    "r.vertex_default(size=8, bwidth=1)\n",
    "r.edge_default(width=0.5)"
   ]
  },
  {
   "cell_type": "code",
   "execution_count": 9,
   "id": "139161bf-4c71-48ab-bcbe-65acbb45e6ad",
   "metadata": {
    "execution": {
     "iopub.execute_input": "2025-05-14T13:22:19.228497Z",
     "iopub.status.busy": "2025-05-14T13:22:19.228072Z",
     "iopub.status.idle": "2025-05-14T13:22:19.248110Z",
     "shell.execute_reply": "2025-05-14T13:22:19.246509Z",
     "shell.execute_reply.started": "2025-05-14T13:22:19.228463Z"
    }
   },
   "outputs": [
    {
     "name": "stdout",
     "output_type": "stream",
     "text": [
      "['Chelsea', 'Brighton', 'Manchester City', 'Everton', 'Manchester Utd', 'Southampton', 'Aston Villa', 'Watford', 'Arsenal', 'Leeds United']\n"
     ]
    }
   ],
   "source": [
    "vertex_ids = [v for v in g.vertices()]\n",
    "degree_values = [g.vp.degree[v] for v in vertex_ids]\n",
    "vertex_names = [g.vp.id[v] for v in vertex_ids]\n",
    "\n",
    "top = []\n",
    "\n",
    "qnt = 10\n",
    "for i in range(qnt):\n",
    "    maximo = degree_values.index(max(degree_values))\n",
    "    top.append(vertex_names[maximo])\n",
    "    degree_values.pop(maximo)\n",
    "    vertex_names.pop(maximo)\n",
    "\n",
    "\n",
    "print(top)"
   ]
  },
  {
   "cell_type": "code",
   "execution_count": null,
   "id": "f0b37d29-e33a-44db-8666-819ae093b25a",
   "metadata": {},
   "outputs": [],
   "source": []
  }
 ],
 "metadata": {
  "kernelspec": {
   "display_name": "Python 3 (ipykernel)",
   "language": "python",
   "name": "python3"
  },
  "language_info": {
   "codemirror_mode": {
    "name": "ipython",
    "version": 3
   },
   "file_extension": ".py",
   "mimetype": "text/x-python",
   "name": "python",
   "nbconvert_exporter": "python",
   "pygments_lexer": "ipython3",
   "version": "3.13.1"
  }
 },
 "nbformat": 4,
 "nbformat_minor": 5
}
