{
 "cells": [
  {
   "cell_type": "code",
   "execution_count": 1,
   "id": "0faa33ee-19dc-4b09-b295-0647b507df2e",
   "metadata": {
    "execution": {
     "iopub.execute_input": "2025-03-24T13:43:32.443657Z",
     "iopub.status.busy": "2025-03-24T13:43:32.443291Z",
     "iopub.status.idle": "2025-03-24T13:43:34.767787Z",
     "shell.execute_reply": "2025-03-24T13:43:34.766912Z",
     "shell.execute_reply.started": "2025-03-24T13:43:32.443620Z"
    }
   },
   "outputs": [
    {
     "data": {
      "text/html": [
       "\n",
       "    <script src=\"/static/.hidden/netpixi.min.js\"></script>\n"
      ],
      "text/plain": [
       "<IPython.core.display.HTML object>"
      ]
     },
     "metadata": {},
     "output_type": "display_data"
    }
   ],
   "source": [
    "import netpixi\n",
    "import graph_tool_extras as gte\n",
    "\n",
    "from graph_tool import centrality"
   ]
  },
  {
   "cell_type": "code",
   "execution_count": 2,
   "id": "07b48a21-c49d-4f53-9560-658b6dfc1afd",
   "metadata": {
    "execution": {
     "iopub.execute_input": "2025-03-24T13:43:34.774341Z",
     "iopub.status.busy": "2025-03-24T13:43:34.773401Z",
     "iopub.status.idle": "2025-03-24T13:43:34.784675Z",
     "shell.execute_reply": "2025-03-24T13:43:34.781066Z",
     "shell.execute_reply.started": "2025-03-24T13:43:34.774298Z"
    }
   },
   "outputs": [],
   "source": [
    "# netpixi.render('entrega1.net.gz');"
   ]
  },
  {
   "cell_type": "code",
   "execution_count": 3,
   "id": "a4b29774-cff3-44df-9f7f-be2c33a77009",
   "metadata": {
    "execution": {
     "iopub.execute_input": "2025-03-24T13:43:34.787814Z",
     "iopub.status.busy": "2025-03-24T13:43:34.786818Z",
     "iopub.status.idle": "2025-03-24T13:43:34.842136Z",
     "shell.execute_reply": "2025-03-24T13:43:34.841423Z",
     "shell.execute_reply.started": "2025-03-24T13:43:34.787777Z"
    }
   },
   "outputs": [],
   "source": [
    "g = gte.load('../entrega1.net.gz')\n",
    "c = gte.total_degree(g)\n",
    "\n",
    "g.add_vp('degree', c)"
   ]
  },
  {
   "cell_type": "code",
   "execution_count": 4,
   "id": "c5651c59-86e0-4c5f-982e-59a77beb467c",
   "metadata": {
    "execution": {
     "iopub.execute_input": "2025-03-24T13:43:35.041794Z",
     "iopub.status.busy": "2025-03-24T13:43:35.040643Z",
     "iopub.status.idle": "2025-03-24T13:43:35.127275Z",
     "shell.execute_reply": "2025-03-24T13:43:35.126358Z",
     "shell.execute_reply.started": "2025-03-24T13:43:35.041761Z"
    }
   },
   "outputs": [],
   "source": [
    "gte.save(g, 'degree.net.gz')"
   ]
  },
  {
   "cell_type": "code",
   "execution_count": 14,
   "id": "dbeb24a1-af02-4dca-8350-817b3348ddb1",
   "metadata": {
    "execution": {
     "iopub.execute_input": "2025-03-24T13:27:06.176990Z",
     "iopub.status.busy": "2025-03-24T13:27:06.175167Z",
     "iopub.status.idle": "2025-03-24T13:27:06.185176Z",
     "shell.execute_reply": "2025-03-24T13:27:06.182926Z",
     "shell.execute_reply.started": "2025-03-24T13:27:06.176932Z"
    }
   },
   "outputs": [],
   "source": [
    "r = netpixi.render('degree.net.gz')"
   ]
  },
  {
   "cell_type": "code",
   "execution_count": 5,
   "id": "fe911643-cbcb-49f9-9da3-f82598c0af6b",
   "metadata": {
    "execution": {
     "iopub.execute_input": "2025-03-24T13:43:38.540643Z",
     "iopub.status.busy": "2025-03-24T13:43:38.539691Z",
     "iopub.status.idle": "2025-03-24T13:43:38.787485Z",
     "shell.execute_reply": "2025-03-24T13:43:38.786164Z",
     "shell.execute_reply.started": "2025-03-24T13:43:38.540588Z"
    }
   },
   "outputs": [
    {
     "ename": "NameError",
     "evalue": "name 'r' is not defined",
     "output_type": "error",
     "traceback": [
      "\u001b[0;31m---------------------------------------------------------------------------\u001b[0m",
      "\u001b[0;31mNameError\u001b[0m                                 Traceback (most recent call last)",
      "Cell \u001b[0;32mIn[5], line 1\u001b[0m\n\u001b[0;32m----> 1\u001b[0m \u001b[43mr\u001b[49m\u001b[38;5;241m.\u001b[39mvertex_scale(\u001b[38;5;124m'\u001b[39m\u001b[38;5;124mdegree\u001b[39m\u001b[38;5;124m'\u001b[39m, \u001b[38;5;241m10\u001b[39m, \u001b[38;5;241m30\u001b[39m)\n",
      "\u001b[0;31mNameError\u001b[0m: name 'r' is not defined"
     ]
    }
   ],
   "source": [
    "r.vertex_scale('degree', 10, 30)"
   ]
  },
  {
   "cell_type": "code",
   "execution_count": 40,
   "id": "336a9683-4dea-43a2-8b03-a57916815ab7",
   "metadata": {
    "execution": {
     "iopub.execute_input": "2025-03-24T13:39:01.345046Z",
     "iopub.status.busy": "2025-03-24T13:39:01.344444Z",
     "iopub.status.idle": "2025-03-24T13:39:01.360248Z",
     "shell.execute_reply": "2025-03-24T13:39:01.359001Z",
     "shell.execute_reply.started": "2025-03-24T13:39:01.345005Z"
    }
   },
   "outputs": [
    {
     "data": {
      "text/html": [
       "\n",
       "        <div id=\"G3iT4HqcmDtsjPAJz8g8Yr\"></div>\n",
       "        <script>netpixi.call('G3iT4HqcmDtsjPAJz8g8Yr', 'ippzMJgojp9Gejrf4hLdet', 'changeGraph', 'eyJ0eXBlIjogInNldHRpbmdzIiwgInByb3BzIjogeyJ2ZXJ0ZXgiOiB7InNpemUiOiA4LCAiYndpZHRoIjogMX19fQo=');</script>\n",
       "    "
      ],
      "text/plain": [
       "<IPython.core.display.HTML object>"
      ]
     },
     "metadata": {},
     "output_type": "display_data"
    },
    {
     "data": {
      "text/html": [
       "\n",
       "        <div id=\"bvD3d8NebyRBSCu3puuayB\"></div>\n",
       "        <script>netpixi.call('bvD3d8NebyRBSCu3puuayB', 'ippzMJgojp9Gejrf4hLdet', 'changeGraph', 'eyJ0eXBlIjogInNldHRpbmdzIiwgInByb3BzIjogeyJlZGdlIjogeyJ3aWR0aCI6IDAuNX19fQo=');</script>\n",
       "    "
      ],
      "text/plain": [
       "<IPython.core.display.HTML object>"
      ]
     },
     "metadata": {},
     "output_type": "display_data"
    }
   ],
   "source": [
    "r.vertex_default(size=8, bwidth=1)\n",
    "r.edge_default(width=0.5)"
   ]
  },
  {
   "cell_type": "code",
   "execution_count": 11,
   "id": "139161bf-4c71-48ab-bcbe-65acbb45e6ad",
   "metadata": {
    "execution": {
     "iopub.execute_input": "2025-03-24T14:09:46.454443Z",
     "iopub.status.busy": "2025-03-24T14:09:46.452402Z",
     "iopub.status.idle": "2025-03-24T14:09:46.489600Z",
     "shell.execute_reply": "2025-03-24T14:09:46.485482Z",
     "shell.execute_reply.started": "2025-03-24T14:09:46.454396Z"
    }
   },
   "outputs": [
    {
     "name": "stdout",
     "output_type": "stream",
     "text": [
      "['Chelsea FC', 'Brighton & Hove Albion', 'Manchester City', 'Aston Villa', 'Everton FC']\n"
     ]
    }
   ],
   "source": [
    "vertex_ids = [v for v in g.vertices()]\n",
    "degree_values = [g.vp.degree[v] for v in vertex_ids]\n",
    "vertex_names = [g.vp.id[v] for v in vertex_ids]\n",
    "\n",
    "top = []\n",
    "\n",
    "qnt = 5\n",
    "for i in range(qnt):\n",
    "    maximo = degree_values.index(max(degree_values))\n",
    "    top.append(vertex_names[maximo])\n",
    "    degree_values.pop(maximo)\n",
    "    vertex_names.pop(maximo)\n",
    "\n",
    "\n",
    "print(top)"
   ]
  },
  {
   "cell_type": "code",
   "execution_count": null,
   "id": "f0b37d29-e33a-44db-8666-819ae093b25a",
   "metadata": {},
   "outputs": [],
   "source": []
  }
 ],
 "metadata": {
  "kernelspec": {
   "display_name": "Python 3 (ipykernel)",
   "language": "python",
   "name": "python3"
  },
  "language_info": {
   "codemirror_mode": {
    "name": "ipython",
    "version": 3
   },
   "file_extension": ".py",
   "mimetype": "text/x-python",
   "name": "python",
   "nbconvert_exporter": "python",
   "pygments_lexer": "ipython3",
   "version": "3.13.1"
  }
 },
 "nbformat": 4,
 "nbformat_minor": 5
}
