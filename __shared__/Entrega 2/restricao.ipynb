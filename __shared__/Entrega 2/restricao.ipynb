{
 "cells": [
  {
   "cell_type": "code",
   "execution_count": 30,
   "id": "0faa33ee-19dc-4b09-b295-0647b507df2e",
   "metadata": {
    "execution": {
     "iopub.execute_input": "2025-03-19T13:58:00.972482Z",
     "iopub.status.busy": "2025-03-19T13:58:00.971531Z",
     "iopub.status.idle": "2025-03-19T13:58:00.983995Z",
     "shell.execute_reply": "2025-03-19T13:58:00.979508Z",
     "shell.execute_reply.started": "2025-03-19T13:58:00.972442Z"
    }
   },
   "outputs": [],
   "source": [
    "import netpixi\n",
    "import graph_tool_extras as gte\n",
    "\n",
    "from graph_tool import centrality"
   ]
  },
  {
   "cell_type": "code",
   "execution_count": 31,
   "id": "07b48a21-c49d-4f53-9560-658b6dfc1afd",
   "metadata": {
    "execution": {
     "iopub.execute_input": "2025-03-19T13:58:01.338329Z",
     "iopub.status.busy": "2025-03-19T13:58:01.336895Z",
     "iopub.status.idle": "2025-03-19T13:58:01.343499Z",
     "shell.execute_reply": "2025-03-19T13:58:01.342020Z",
     "shell.execute_reply.started": "2025-03-19T13:58:01.338295Z"
    }
   },
   "outputs": [],
   "source": [
    "# netpixi.render('entrega1.net.gz');"
   ]
  },
  {
   "cell_type": "code",
   "execution_count": 32,
   "id": "a4b29774-cff3-44df-9f7f-be2c33a77009",
   "metadata": {
    "execution": {
     "iopub.execute_input": "2025-03-19T13:58:01.721398Z",
     "iopub.status.busy": "2025-03-19T13:58:01.719944Z",
     "iopub.status.idle": "2025-03-19T13:58:01.857176Z",
     "shell.execute_reply": "2025-03-19T13:58:01.856338Z",
     "shell.execute_reply.started": "2025-03-19T13:58:01.721337Z"
    }
   },
   "outputs": [],
   "source": [
    "g = gte.load('../entrega1.net.gz')\n",
    "c = gte.burt_constraint(g)\n",
    "\n",
    "g.add_vp('burt_constraint', c)"
   ]
  },
  {
   "cell_type": "code",
   "execution_count": 33,
   "id": "c5651c59-86e0-4c5f-982e-59a77beb467c",
   "metadata": {
    "execution": {
     "iopub.execute_input": "2025-03-19T13:58:02.073143Z",
     "iopub.status.busy": "2025-03-19T13:58:02.072179Z",
     "iopub.status.idle": "2025-03-19T13:58:02.198348Z",
     "shell.execute_reply": "2025-03-19T13:58:02.196516Z",
     "shell.execute_reply.started": "2025-03-19T13:58:02.073087Z"
    }
   },
   "outputs": [],
   "source": [
    "gte.save(g, 'restricao.net.gz')"
   ]
  },
  {
   "cell_type": "code",
   "execution_count": 34,
   "id": "dbeb24a1-af02-4dca-8350-817b3348ddb1",
   "metadata": {
    "execution": {
     "iopub.execute_input": "2025-03-19T13:58:02.470341Z",
     "iopub.status.busy": "2025-03-19T13:58:02.469626Z",
     "iopub.status.idle": "2025-03-19T13:58:02.483482Z",
     "shell.execute_reply": "2025-03-19T13:58:02.482408Z",
     "shell.execute_reply.started": "2025-03-19T13:58:02.470311Z"
    }
   },
   "outputs": [
    {
     "data": {
      "text/html": [
       "\n",
       "        <div id=\"AARt2GeydaLxMwewNyuzWe\"></div>\n",
       "        <script>netpixi.render('AARt2GeydaLxMwewNyuzWe', '/static/__shared__/Entrega 2/restricao.net.gz', 1.7777777777777777, true, false, false, true);</script>\n",
       "    "
      ],
      "text/plain": [
       "<IPython.core.display.HTML object>"
      ]
     },
     "metadata": {},
     "output_type": "display_data"
    }
   ],
   "source": [
    "r = netpixi.render('restricao.net.gz')"
   ]
  },
  {
   "cell_type": "code",
   "execution_count": 35,
   "id": "fe911643-cbcb-49f9-9da3-f82598c0af6b",
   "metadata": {
    "execution": {
     "iopub.execute_input": "2025-03-19T13:58:03.002177Z",
     "iopub.status.busy": "2025-03-19T13:58:02.999940Z",
     "iopub.status.idle": "2025-03-19T13:58:03.014792Z",
     "shell.execute_reply": "2025-03-19T13:58:03.012079Z",
     "shell.execute_reply.started": "2025-03-19T13:58:03.002125Z"
    }
   },
   "outputs": [
    {
     "data": {
      "text/html": [
       "\n",
       "        <div id=\"izYbGErPyppMA8RBtewiam\"></div>\n",
       "        <script>netpixi.call('izYbGErPyppMA8RBtewiam', 'AARt2GeydaLxMwewNyuzWe', 'normalizeGraph', 'eyJ0eXBlIjogInZlcnRleCIsICJwcm9wcyI6IHsic3JjIjogImJ1cnRfY29uc3RyYWludCIsICJtaW4iOiAxMCwgIm1heCI6IDMwfX0K');</script>\n",
       "    "
      ],
      "text/plain": [
       "<IPython.core.display.HTML object>"
      ]
     },
     "metadata": {},
     "output_type": "display_data"
    }
   ],
   "source": [
    "r.vertex_scale('burt_constraint', 10, 30)"
   ]
  },
  {
   "cell_type": "code",
   "execution_count": 36,
   "id": "336a9683-4dea-43a2-8b03-a57916815ab7",
   "metadata": {
    "execution": {
     "iopub.execute_input": "2025-03-19T13:58:03.545190Z",
     "iopub.status.busy": "2025-03-19T13:58:03.544156Z",
     "iopub.status.idle": "2025-03-19T13:58:03.565428Z",
     "shell.execute_reply": "2025-03-19T13:58:03.564155Z",
     "shell.execute_reply.started": "2025-03-19T13:58:03.545154Z"
    }
   },
   "outputs": [
    {
     "data": {
      "text/html": [
       "\n",
       "        <div id=\"DxVKfbjhRtnXEQAh8yToQX\"></div>\n",
       "        <script>netpixi.call('DxVKfbjhRtnXEQAh8yToQX', 'AARt2GeydaLxMwewNyuzWe', 'changeGraph', 'eyJ0eXBlIjogInNldHRpbmdzIiwgInByb3BzIjogeyJ2ZXJ0ZXgiOiB7InNpemUiOiA4LCAiYndpZHRoIjogMX19fQo=');</script>\n",
       "    "
      ],
      "text/plain": [
       "<IPython.core.display.HTML object>"
      ]
     },
     "metadata": {},
     "output_type": "display_data"
    },
    {
     "data": {
      "text/html": [
       "\n",
       "        <div id=\"3Rz4NV6c9sPWntde7WPtYj\"></div>\n",
       "        <script>netpixi.call('3Rz4NV6c9sPWntde7WPtYj', 'AARt2GeydaLxMwewNyuzWe', 'changeGraph', 'eyJ0eXBlIjogInNldHRpbmdzIiwgInByb3BzIjogeyJlZGdlIjogeyJ3aWR0aCI6IDAuNX19fQo=');</script>\n",
       "    "
      ],
      "text/plain": [
       "<IPython.core.display.HTML object>"
      ]
     },
     "metadata": {},
     "output_type": "display_data"
    }
   ],
   "source": [
    "r.vertex_default(size=8, bwidth=1)\n",
    "r.edge_default(width=0.5)"
   ]
  },
  {
   "cell_type": "code",
   "execution_count": null,
   "id": "8a6a6f09-b0b8-4720-852f-46c45138eb0c",
   "metadata": {},
   "outputs": [],
   "source": []
  }
 ],
 "metadata": {
  "kernelspec": {
   "display_name": "Python 3 (ipykernel)",
   "language": "python",
   "name": "python3"
  },
  "language_info": {
   "codemirror_mode": {
    "name": "ipython",
    "version": 3
   },
   "file_extension": ".py",
   "mimetype": "text/x-python",
   "name": "python",
   "nbconvert_exporter": "python",
   "pygments_lexer": "ipython3",
   "version": "3.13.1"
  }
 },
 "nbformat": 4,
 "nbformat_minor": 5
}
