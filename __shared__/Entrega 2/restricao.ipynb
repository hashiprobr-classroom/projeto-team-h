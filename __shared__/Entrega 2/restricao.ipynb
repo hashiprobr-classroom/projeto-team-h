{
 "cells": [
  {
   "cell_type": "code",
   "execution_count": 1,
   "id": "0faa33ee-19dc-4b09-b295-0647b507df2e",
   "metadata": {
    "execution": {
     "iopub.execute_input": "2025-05-14T13:23:02.575243Z",
     "iopub.status.busy": "2025-05-14T13:23:02.573861Z",
     "iopub.status.idle": "2025-05-14T13:23:05.080931Z",
     "shell.execute_reply": "2025-05-14T13:23:05.079757Z",
     "shell.execute_reply.started": "2025-05-14T13:23:02.575199Z"
    }
   },
   "outputs": [
    {
     "data": {
      "text/html": [
       "\n",
       "    <script src=\"/static/.hidden/netpixi.min.js\"></script>\n"
      ],
      "text/plain": [
       "<IPython.core.display.HTML object>"
      ]
     },
     "metadata": {},
     "output_type": "display_data"
    }
   ],
   "source": [
    "import netpixi\n",
    "import graph_tool_extras as gte\n",
    "\n",
    "from graph_tool import centrality"
   ]
  },
  {
   "cell_type": "code",
   "execution_count": 2,
   "id": "07b48a21-c49d-4f53-9560-658b6dfc1afd",
   "metadata": {
    "execution": {
     "iopub.execute_input": "2025-05-14T13:23:05.083921Z",
     "iopub.status.busy": "2025-05-14T13:23:05.083016Z",
     "iopub.status.idle": "2025-05-14T13:23:05.089165Z",
     "shell.execute_reply": "2025-05-14T13:23:05.087719Z",
     "shell.execute_reply.started": "2025-05-14T13:23:05.083889Z"
    }
   },
   "outputs": [],
   "source": [
    "# netpixi.render('entrega1.net.gz');"
   ]
  },
  {
   "cell_type": "code",
   "execution_count": 3,
   "id": "a4b29774-cff3-44df-9f7f-be2c33a77009",
   "metadata": {
    "execution": {
     "iopub.execute_input": "2025-05-14T13:23:05.092454Z",
     "iopub.status.busy": "2025-05-14T13:23:05.092018Z",
     "iopub.status.idle": "2025-05-14T13:23:05.282384Z",
     "shell.execute_reply": "2025-05-14T13:23:05.281175Z",
     "shell.execute_reply.started": "2025-05-14T13:23:05.092417Z"
    }
   },
   "outputs": [],
   "source": [
    "g = gte.load('../entrega1.net.gz')\n",
    "c = gte.burt_constraint(g)\n",
    "\n",
    "g.add_vp('burt_constraint', c)"
   ]
  },
  {
   "cell_type": "code",
   "execution_count": 4,
   "id": "c5651c59-86e0-4c5f-982e-59a77beb467c",
   "metadata": {
    "execution": {
     "iopub.execute_input": "2025-05-14T13:23:05.285664Z",
     "iopub.status.busy": "2025-05-14T13:23:05.285171Z",
     "iopub.status.idle": "2025-05-14T13:23:05.381631Z",
     "shell.execute_reply": "2025-05-14T13:23:05.380297Z",
     "shell.execute_reply.started": "2025-05-14T13:23:05.285630Z"
    }
   },
   "outputs": [],
   "source": [
    "gte.save(g, 'restricao.net.gz')"
   ]
  },
  {
   "cell_type": "code",
   "execution_count": 5,
   "id": "dbeb24a1-af02-4dca-8350-817b3348ddb1",
   "metadata": {
    "execution": {
     "iopub.execute_input": "2025-05-14T13:23:05.388475Z",
     "iopub.status.busy": "2025-05-14T13:23:05.387457Z",
     "iopub.status.idle": "2025-05-14T13:23:05.406138Z",
     "shell.execute_reply": "2025-05-14T13:23:05.404368Z",
     "shell.execute_reply.started": "2025-05-14T13:23:05.388448Z"
    }
   },
   "outputs": [
    {
     "data": {
      "text/html": [
       "\n",
       "        <div id=\"Zu8HEkMw7aYqe7nMbGMiwJ\"></div>\n",
       "        <script>netpixi.render('Zu8HEkMw7aYqe7nMbGMiwJ', '/static/__shared__/Entrega 2/restricao.net.gz', 1.7777777777777777, true, false, false, true);</script>\n",
       "    "
      ],
      "text/plain": [
       "<IPython.core.display.HTML object>"
      ]
     },
     "metadata": {},
     "output_type": "display_data"
    }
   ],
   "source": [
    "r = netpixi.render('restricao.net.gz')"
   ]
  },
  {
   "cell_type": "code",
   "execution_count": 6,
   "id": "fe911643-cbcb-49f9-9da3-f82598c0af6b",
   "metadata": {
    "execution": {
     "iopub.execute_input": "2025-05-14T13:23:06.390608Z",
     "iopub.status.busy": "2025-05-14T13:23:06.389659Z",
     "iopub.status.idle": "2025-05-14T13:23:06.402574Z",
     "shell.execute_reply": "2025-05-14T13:23:06.398862Z",
     "shell.execute_reply.started": "2025-05-14T13:23:06.390579Z"
    }
   },
   "outputs": [
    {
     "data": {
      "text/html": [
       "\n",
       "        <div id=\"hs2F8kPfRhUBc8LhmFeutu\"></div>\n",
       "        <script>netpixi.call('hs2F8kPfRhUBc8LhmFeutu', 'Zu8HEkMw7aYqe7nMbGMiwJ', 'normalizeGraph', 'eyJ0eXBlIjogInZlcnRleCIsICJwcm9wcyI6IHsic3JjIjogImJ1cnRfY29uc3RyYWludCIsICJtaW4iOiAxMCwgIm1heCI6IDMwfX0K');</script>\n",
       "    "
      ],
      "text/plain": [
       "<IPython.core.display.HTML object>"
      ]
     },
     "metadata": {},
     "output_type": "display_data"
    }
   ],
   "source": [
    "r.vertex_scale('burt_constraint', 10, 30)"
   ]
  },
  {
   "cell_type": "code",
   "execution_count": 7,
   "id": "336a9683-4dea-43a2-8b03-a57916815ab7",
   "metadata": {
    "execution": {
     "iopub.execute_input": "2025-05-14T13:23:07.425322Z",
     "iopub.status.busy": "2025-05-14T13:23:07.424112Z",
     "iopub.status.idle": "2025-05-14T13:23:07.443617Z",
     "shell.execute_reply": "2025-05-14T13:23:07.441339Z",
     "shell.execute_reply.started": "2025-05-14T13:23:07.425230Z"
    }
   },
   "outputs": [
    {
     "data": {
      "text/html": [
       "\n",
       "        <div id=\"gfhwqKKBy7TAaE6QEvKbEL\"></div>\n",
       "        <script>netpixi.call('gfhwqKKBy7TAaE6QEvKbEL', 'Zu8HEkMw7aYqe7nMbGMiwJ', 'changeGraph', 'eyJ0eXBlIjogInNldHRpbmdzIiwgInByb3BzIjogeyJ2ZXJ0ZXgiOiB7InNpemUiOiA4LCAiYndpZHRoIjogMX19fQo=');</script>\n",
       "    "
      ],
      "text/plain": [
       "<IPython.core.display.HTML object>"
      ]
     },
     "metadata": {},
     "output_type": "display_data"
    },
    {
     "data": {
      "text/html": [
       "\n",
       "        <div id=\"gNqVGJ8gYAeTizZTNtAkQt\"></div>\n",
       "        <script>netpixi.call('gNqVGJ8gYAeTizZTNtAkQt', 'Zu8HEkMw7aYqe7nMbGMiwJ', 'changeGraph', 'eyJ0eXBlIjogInNldHRpbmdzIiwgInByb3BzIjogeyJlZGdlIjogeyJ3aWR0aCI6IDAuNX19fQo=');</script>\n",
       "    "
      ],
      "text/plain": [
       "<IPython.core.display.HTML object>"
      ]
     },
     "metadata": {},
     "output_type": "display_data"
    }
   ],
   "source": [
    "r.vertex_default(size=8, bwidth=1)\n",
    "r.edge_default(width=0.5)"
   ]
  },
  {
   "cell_type": "code",
   "execution_count": 8,
   "id": "ee1a275a-2d97-42d9-83db-bf50517e0697",
   "metadata": {
    "execution": {
     "iopub.execute_input": "2025-05-14T13:23:08.722989Z",
     "iopub.status.busy": "2025-05-14T13:23:08.722090Z",
     "iopub.status.idle": "2025-05-14T13:23:08.745475Z",
     "shell.execute_reply": "2025-05-14T13:23:08.740740Z",
     "shell.execute_reply.started": "2025-05-14T13:23:08.722958Z"
    }
   },
   "outputs": [
    {
     "name": "stdout",
     "output_type": "stream",
     "text": [
      "['Arsenal', 'Tottenham', 'Wolves', 'Leicester City', 'Leeds United']\n"
     ]
    }
   ],
   "source": [
    "vertex_ids = [v for v in g.vertices()]\n",
    "restricao_values = [g.vp.burt_constraint[v] for v in vertex_ids]\n",
    "vertex_names = [g.vp.id[v] for v in vertex_ids]\n",
    "\n",
    "top = []\n",
    "\n",
    "qnt = 5\n",
    "for i in range(qnt):\n",
    "    minimo = restricao_values.index(max(restricao_values))\n",
    "    top.append(vertex_names[minimo])\n",
    "    restricao_values.pop(minimo)\n",
    "    vertex_names.pop(minimo)\n",
    "\n",
    "\n",
    "print(top)"
   ]
  },
  {
   "cell_type": "code",
   "execution_count": null,
   "id": "1c63b2b6-e316-4778-b224-f80989e1ef53",
   "metadata": {},
   "outputs": [],
   "source": []
  },
  {
   "cell_type": "code",
   "execution_count": null,
   "id": "ab8a31ec-5e0c-4bc2-9742-7f3b8a192d86",
   "metadata": {},
   "outputs": [],
   "source": []
  }
 ],
 "metadata": {
  "kernelspec": {
   "display_name": "Python 3 (ipykernel)",
   "language": "python",
   "name": "python3"
  },
  "language_info": {
   "codemirror_mode": {
    "name": "ipython",
    "version": 3
   },
   "file_extension": ".py",
   "mimetype": "text/x-python",
   "name": "python",
   "nbconvert_exporter": "python",
   "pygments_lexer": "ipython3",
   "version": "3.13.1"
  }
 },
 "nbformat": 4,
 "nbformat_minor": 5
}
