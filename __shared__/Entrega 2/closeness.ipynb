{
 "cells": [
  {
   "cell_type": "code",
   "execution_count": 1,
   "id": "0faa33ee-19dc-4b09-b295-0647b507df2e",
   "metadata": {
    "execution": {
     "iopub.execute_input": "2025-05-14T13:21:52.385083Z",
     "iopub.status.busy": "2025-05-14T13:21:52.384020Z",
     "iopub.status.idle": "2025-05-14T13:21:55.002195Z",
     "shell.execute_reply": "2025-05-14T13:21:55.001413Z",
     "shell.execute_reply.started": "2025-05-14T13:21:52.385020Z"
    }
   },
   "outputs": [
    {
     "data": {
      "text/html": [
       "\n",
       "    <script src=\"/static/.hidden/netpixi.min.js\"></script>\n"
      ],
      "text/plain": [
       "<IPython.core.display.HTML object>"
      ]
     },
     "metadata": {},
     "output_type": "display_data"
    }
   ],
   "source": [
    "import netpixi\n",
    "import graph_tool_extras as gte\n",
    "\n",
    "from graph_tool import centrality"
   ]
  },
  {
   "cell_type": "code",
   "execution_count": 2,
   "id": "07b48a21-c49d-4f53-9560-658b6dfc1afd",
   "metadata": {
    "execution": {
     "iopub.execute_input": "2025-05-14T13:21:55.005495Z",
     "iopub.status.busy": "2025-05-14T13:21:55.004004Z",
     "iopub.status.idle": "2025-05-14T13:21:55.011126Z",
     "shell.execute_reply": "2025-05-14T13:21:55.009692Z",
     "shell.execute_reply.started": "2025-05-14T13:21:55.005453Z"
    }
   },
   "outputs": [],
   "source": [
    "# netpixi.render('entrega1.net.gz');"
   ]
  },
  {
   "cell_type": "code",
   "execution_count": 3,
   "id": "a4b29774-cff3-44df-9f7f-be2c33a77009",
   "metadata": {
    "execution": {
     "iopub.execute_input": "2025-05-14T13:21:55.013834Z",
     "iopub.status.busy": "2025-05-14T13:21:55.012580Z",
     "iopub.status.idle": "2025-05-14T13:21:55.105906Z",
     "shell.execute_reply": "2025-05-14T13:21:55.104456Z",
     "shell.execute_reply.started": "2025-05-14T13:21:55.013792Z"
    }
   },
   "outputs": [],
   "source": [
    "g = gte.load('../entrega1.net.gz')\n",
    "c = centrality.closeness(g, harmonic=True)\n",
    "\n",
    "g.add_vp('closeness', c)"
   ]
  },
  {
   "cell_type": "code",
   "execution_count": 4,
   "id": "c5651c59-86e0-4c5f-982e-59a77beb467c",
   "metadata": {
    "execution": {
     "iopub.execute_input": "2025-05-14T13:21:55.113818Z",
     "iopub.status.busy": "2025-05-14T13:21:55.110647Z",
     "iopub.status.idle": "2025-05-14T13:21:55.196076Z",
     "shell.execute_reply": "2025-05-14T13:21:55.195006Z",
     "shell.execute_reply.started": "2025-05-14T13:21:55.113781Z"
    }
   },
   "outputs": [],
   "source": [
    "gte.save(g, 'closeness.net.gz')"
   ]
  },
  {
   "cell_type": "code",
   "execution_count": 5,
   "id": "dbeb24a1-af02-4dca-8350-817b3348ddb1",
   "metadata": {
    "execution": {
     "iopub.execute_input": "2025-05-14T13:21:55.632918Z",
     "iopub.status.busy": "2025-05-14T13:21:55.631891Z",
     "iopub.status.idle": "2025-05-14T13:21:55.644408Z",
     "shell.execute_reply": "2025-05-14T13:21:55.643432Z",
     "shell.execute_reply.started": "2025-05-14T13:21:55.632881Z"
    }
   },
   "outputs": [
    {
     "data": {
      "text/html": [
       "\n",
       "        <div id=\"4PbVMGtnZMqACvH6Wq99tR\"></div>\n",
       "        <script>netpixi.render('4PbVMGtnZMqACvH6Wq99tR', '/static/__shared__/Entrega 2/closeness.net.gz', 1.7777777777777777, true, false, false, true);</script>\n",
       "    "
      ],
      "text/plain": [
       "<IPython.core.display.HTML object>"
      ]
     },
     "metadata": {},
     "output_type": "display_data"
    }
   ],
   "source": [
    "r = netpixi.render('closeness.net.gz')"
   ]
  },
  {
   "cell_type": "code",
   "execution_count": 6,
   "id": "fe911643-cbcb-49f9-9da3-f82598c0af6b",
   "metadata": {
    "execution": {
     "iopub.execute_input": "2025-05-14T13:21:56.951287Z",
     "iopub.status.busy": "2025-05-14T13:21:56.950807Z",
     "iopub.status.idle": "2025-05-14T13:21:56.962683Z",
     "shell.execute_reply": "2025-05-14T13:21:56.959770Z",
     "shell.execute_reply.started": "2025-05-14T13:21:56.951252Z"
    }
   },
   "outputs": [
    {
     "data": {
      "text/html": [
       "\n",
       "        <div id=\"SxdekJz7PKK5erpK39MsWi\"></div>\n",
       "        <script>netpixi.call('SxdekJz7PKK5erpK39MsWi', '4PbVMGtnZMqACvH6Wq99tR', 'normalizeGraph', 'eyJ0eXBlIjogInZlcnRleCIsICJwcm9wcyI6IHsic3JjIjogImNsb3NlbmVzcyIsICJtaW4iOiAxMCwgIm1heCI6IDMwfX0K');</script>\n",
       "    "
      ],
      "text/plain": [
       "<IPython.core.display.HTML object>"
      ]
     },
     "metadata": {},
     "output_type": "display_data"
    }
   ],
   "source": [
    "r.vertex_scale('closeness', 10, 30)"
   ]
  },
  {
   "cell_type": "code",
   "execution_count": 7,
   "id": "336a9683-4dea-43a2-8b03-a57916815ab7",
   "metadata": {
    "execution": {
     "iopub.execute_input": "2025-05-14T13:21:58.061416Z",
     "iopub.status.busy": "2025-05-14T13:21:58.060229Z",
     "iopub.status.idle": "2025-05-14T13:21:58.072171Z",
     "shell.execute_reply": "2025-05-14T13:21:58.071044Z",
     "shell.execute_reply.started": "2025-05-14T13:21:58.061348Z"
    }
   },
   "outputs": [
    {
     "data": {
      "text/html": [
       "\n",
       "        <div id=\"Lt9LGh2gF6jUYERRXoHQnv\"></div>\n",
       "        <script>netpixi.call('Lt9LGh2gF6jUYERRXoHQnv', '4PbVMGtnZMqACvH6Wq99tR', 'changeGraph', 'eyJ0eXBlIjogInNldHRpbmdzIiwgInByb3BzIjogeyJ2ZXJ0ZXgiOiB7InNpemUiOiA4LCAiYndpZHRoIjogMX19fQo=');</script>\n",
       "    "
      ],
      "text/plain": [
       "<IPython.core.display.HTML object>"
      ]
     },
     "metadata": {},
     "output_type": "display_data"
    },
    {
     "data": {
      "text/html": [
       "\n",
       "        <div id=\"b5syBzzCDipGeaLYF8g28Z\"></div>\n",
       "        <script>netpixi.call('b5syBzzCDipGeaLYF8g28Z', '4PbVMGtnZMqACvH6Wq99tR', 'changeGraph', 'eyJ0eXBlIjogInNldHRpbmdzIiwgInByb3BzIjogeyJlZGdlIjogeyJ3aWR0aCI6IDAuNX19fQo=');</script>\n",
       "    "
      ],
      "text/plain": [
       "<IPython.core.display.HTML object>"
      ]
     },
     "metadata": {},
     "output_type": "display_data"
    }
   ],
   "source": [
    "r.vertex_default(size=8, bwidth=1)\n",
    "r.edge_default(width=0.5)"
   ]
  },
  {
   "cell_type": "code",
   "execution_count": 9,
   "id": "68fd2d3c-955c-441c-9a48-dd9f4000b6ec",
   "metadata": {
    "execution": {
     "iopub.execute_input": "2025-05-14T13:22:01.536754Z",
     "iopub.status.busy": "2025-05-14T13:22:01.535955Z",
     "iopub.status.idle": "2025-05-14T13:22:01.557035Z",
     "shell.execute_reply": "2025-05-14T13:22:01.555437Z",
     "shell.execute_reply.started": "2025-05-14T13:22:01.536707Z"
    }
   },
   "outputs": [
    {
     "name": "stdout",
     "output_type": "stream",
     "text": [
      "['Stoke City', 'QPR', 'Olympique Lyon', 'Middlesbrough', 'Swansea', 'Birmingham', 'Sheff Utd', 'Celtic', 'Chelsea', 'Brighton']\n"
     ]
    }
   ],
   "source": [
    "vertex_ids = [v for v in g.vertices()]\n",
    "closeness_values = [g.vp.closeness[v] for v in vertex_ids]\n",
    "vertex_names = [g.vp.id[v] for v in vertex_ids]\n",
    "\n",
    "top = []\n",
    "\n",
    "qnt = 10\n",
    "for i in range(qnt):\n",
    "    maximo = closeness_values.index(max(closeness_values))\n",
    "    top.append(vertex_names[maximo])\n",
    "    closeness_values.pop(maximo)\n",
    "    vertex_names.pop(maximo)\n",
    "\n",
    "\n",
    "print(top)"
   ]
  },
  {
   "cell_type": "code",
   "execution_count": null,
   "id": "6d35c0f7-ec3f-4a6d-b4f9-1b1579082916",
   "metadata": {},
   "outputs": [],
   "source": []
  }
 ],
 "metadata": {
  "kernelspec": {
   "display_name": "Python 3 (ipykernel)",
   "language": "python",
   "name": "python3"
  },
  "language_info": {
   "codemirror_mode": {
    "name": "ipython",
    "version": 3
   },
   "file_extension": ".py",
   "mimetype": "text/x-python",
   "name": "python",
   "nbconvert_exporter": "python",
   "pygments_lexer": "ipython3",
   "version": "3.13.1"
  }
 },
 "nbformat": 4,
 "nbformat_minor": 5
}
