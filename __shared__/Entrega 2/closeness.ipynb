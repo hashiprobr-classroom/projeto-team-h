{
 "cells": [
  {
   "cell_type": "code",
   "execution_count": 2,
   "id": "0faa33ee-19dc-4b09-b295-0647b507df2e",
   "metadata": {
    "execution": {
     "iopub.execute_input": "2025-03-24T13:46:33.747215Z",
     "iopub.status.busy": "2025-03-24T13:46:33.745707Z",
     "iopub.status.idle": "2025-03-24T13:46:35.892983Z",
     "shell.execute_reply": "2025-03-24T13:46:35.891591Z",
     "shell.execute_reply.started": "2025-03-24T13:46:33.747171Z"
    }
   },
   "outputs": [
    {
     "data": {
      "text/html": [
       "\n",
       "    <script src=\"/static/.hidden/netpixi.min.js\"></script>\n"
      ],
      "text/plain": [
       "<IPython.core.display.HTML object>"
      ]
     },
     "metadata": {},
     "output_type": "display_data"
    }
   ],
   "source": [
    "import netpixi\n",
    "import graph_tool_extras as gte\n",
    "\n",
    "from graph_tool import centrality"
   ]
  },
  {
   "cell_type": "code",
   "execution_count": 3,
   "id": "07b48a21-c49d-4f53-9560-658b6dfc1afd",
   "metadata": {
    "execution": {
     "iopub.execute_input": "2025-03-24T13:46:35.895163Z",
     "iopub.status.busy": "2025-03-24T13:46:35.894385Z",
     "iopub.status.idle": "2025-03-24T13:46:35.901366Z",
     "shell.execute_reply": "2025-03-24T13:46:35.899997Z",
     "shell.execute_reply.started": "2025-03-24T13:46:35.895129Z"
    }
   },
   "outputs": [],
   "source": [
    "# netpixi.render('entrega1.net.gz');"
   ]
  },
  {
   "cell_type": "code",
   "execution_count": 4,
   "id": "a4b29774-cff3-44df-9f7f-be2c33a77009",
   "metadata": {
    "execution": {
     "iopub.execute_input": "2025-03-24T13:46:35.903346Z",
     "iopub.status.busy": "2025-03-24T13:46:35.902915Z",
     "iopub.status.idle": "2025-03-24T13:46:35.951463Z",
     "shell.execute_reply": "2025-03-24T13:46:35.950104Z",
     "shell.execute_reply.started": "2025-03-24T13:46:35.903314Z"
    }
   },
   "outputs": [],
   "source": [
    "g = gte.load('../entrega1.net.gz')\n",
    "c = centrality.closeness(g, harmonic=True)\n",
    "\n",
    "g.add_vp('closeness', c)"
   ]
  },
  {
   "cell_type": "code",
   "execution_count": 5,
   "id": "c5651c59-86e0-4c5f-982e-59a77beb467c",
   "metadata": {
    "execution": {
     "iopub.execute_input": "2025-03-24T13:46:35.953144Z",
     "iopub.status.busy": "2025-03-24T13:46:35.952892Z",
     "iopub.status.idle": "2025-03-24T13:46:36.030876Z",
     "shell.execute_reply": "2025-03-24T13:46:36.029974Z",
     "shell.execute_reply.started": "2025-03-24T13:46:35.953125Z"
    }
   },
   "outputs": [],
   "source": [
    "gte.save(g, 'closeness.net.gz')"
   ]
  },
  {
   "cell_type": "code",
   "execution_count": 8,
   "id": "dbeb24a1-af02-4dca-8350-817b3348ddb1",
   "metadata": {
    "execution": {
     "iopub.execute_input": "2025-03-19T14:01:43.777145Z",
     "iopub.status.busy": "2025-03-19T14:01:43.776136Z",
     "iopub.status.idle": "2025-03-19T14:01:43.792261Z",
     "shell.execute_reply": "2025-03-19T14:01:43.790771Z",
     "shell.execute_reply.started": "2025-03-19T14:01:43.777094Z"
    }
   },
   "outputs": [
    {
     "data": {
      "text/html": [
       "\n",
       "        <div id=\"HxNGf4DW8mXo5kyqRubu8N\"></div>\n",
       "        <script>netpixi.render('HxNGf4DW8mXo5kyqRubu8N', '/static/__shared__/Entrega 2/closeness.net.gz', 1.7777777777777777, true, false, false, true);</script>\n",
       "    "
      ],
      "text/plain": [
       "<IPython.core.display.HTML object>"
      ]
     },
     "metadata": {},
     "output_type": "display_data"
    }
   ],
   "source": [
    "r = netpixi.render('closeness.net.gz')"
   ]
  },
  {
   "cell_type": "code",
   "execution_count": 9,
   "id": "fe911643-cbcb-49f9-9da3-f82598c0af6b",
   "metadata": {
    "execution": {
     "iopub.execute_input": "2025-03-19T14:01:44.749395Z",
     "iopub.status.busy": "2025-03-19T14:01:44.748753Z",
     "iopub.status.idle": "2025-03-19T14:01:44.761160Z",
     "shell.execute_reply": "2025-03-19T14:01:44.757289Z",
     "shell.execute_reply.started": "2025-03-19T14:01:44.749371Z"
    }
   },
   "outputs": [
    {
     "data": {
      "text/html": [
       "\n",
       "        <div id=\"PShniX2B3jx2LDUyqkZrxB\"></div>\n",
       "        <script>netpixi.call('PShniX2B3jx2LDUyqkZrxB', 'HxNGf4DW8mXo5kyqRubu8N', 'normalizeGraph', 'eyJ0eXBlIjogInZlcnRleCIsICJwcm9wcyI6IHsic3JjIjogImNsb3NlbmVzcyIsICJtaW4iOiAxMCwgIm1heCI6IDMwfX0K');</script>\n",
       "    "
      ],
      "text/plain": [
       "<IPython.core.display.HTML object>"
      ]
     },
     "metadata": {},
     "output_type": "display_data"
    }
   ],
   "source": [
    "r.vertex_scale('closeness', 10, 30)"
   ]
  },
  {
   "cell_type": "code",
   "execution_count": 10,
   "id": "336a9683-4dea-43a2-8b03-a57916815ab7",
   "metadata": {
    "execution": {
     "iopub.execute_input": "2025-03-19T14:01:45.427967Z",
     "iopub.status.busy": "2025-03-19T14:01:45.425107Z",
     "iopub.status.idle": "2025-03-19T14:01:45.445697Z",
     "shell.execute_reply": "2025-03-19T14:01:45.444615Z",
     "shell.execute_reply.started": "2025-03-19T14:01:45.427897Z"
    }
   },
   "outputs": [
    {
     "data": {
      "text/html": [
       "\n",
       "        <div id=\"SFKsVLKguNMDz9CDQZ3cMi\"></div>\n",
       "        <script>netpixi.call('SFKsVLKguNMDz9CDQZ3cMi', 'HxNGf4DW8mXo5kyqRubu8N', 'changeGraph', 'eyJ0eXBlIjogInNldHRpbmdzIiwgInByb3BzIjogeyJ2ZXJ0ZXgiOiB7InNpemUiOiA4LCAiYndpZHRoIjogMX19fQo=');</script>\n",
       "    "
      ],
      "text/plain": [
       "<IPython.core.display.HTML object>"
      ]
     },
     "metadata": {},
     "output_type": "display_data"
    },
    {
     "data": {
      "text/html": [
       "\n",
       "        <div id=\"3GiF7Zh98bK7ta47ea8eMj\"></div>\n",
       "        <script>netpixi.call('3GiF7Zh98bK7ta47ea8eMj', 'HxNGf4DW8mXo5kyqRubu8N', 'changeGraph', 'eyJ0eXBlIjogInNldHRpbmdzIiwgInByb3BzIjogeyJlZGdlIjogeyJ3aWR0aCI6IDAuNX19fQo=');</script>\n",
       "    "
      ],
      "text/plain": [
       "<IPython.core.display.HTML object>"
      ]
     },
     "metadata": {},
     "output_type": "display_data"
    }
   ],
   "source": [
    "r.vertex_default(size=8, bwidth=1)\n",
    "r.edge_default(width=0.5)"
   ]
  },
  {
   "cell_type": "code",
   "execution_count": 7,
   "id": "68fd2d3c-955c-441c-9a48-dd9f4000b6ec",
   "metadata": {
    "execution": {
     "iopub.execute_input": "2025-03-24T14:09:39.504421Z",
     "iopub.status.busy": "2025-03-24T14:09:39.503639Z",
     "iopub.status.idle": "2025-03-24T14:09:39.518156Z",
     "shell.execute_reply": "2025-03-24T14:09:39.516276Z",
     "shell.execute_reply.started": "2025-03-24T14:09:39.504377Z"
    }
   },
   "outputs": [
    {
     "name": "stdout",
     "output_type": "stream",
     "text": [
      "['QPR', 'Stoke City', 'Chelsea', 'Olympique Lyon', 'Southampton']\n"
     ]
    }
   ],
   "source": [
    "vertex_ids = [v for v in g.vertices()]\n",
    "closeness_values = [g.vp.closeness[v] for v in vertex_ids]\n",
    "vertex_names = [g.vp.id[v] for v in vertex_ids]\n",
    "\n",
    "top = []\n",
    "\n",
    "qnt = 5\n",
    "for i in range(qnt):\n",
    "    maximo = closeness_values.index(max(closeness_values))\n",
    "    top.append(vertex_names[maximo])\n",
    "    closeness_values.pop(maximo)\n",
    "    vertex_names.pop(maximo)\n",
    "\n",
    "\n",
    "print(top)"
   ]
  },
  {
   "cell_type": "code",
   "execution_count": null,
   "id": "6d35c0f7-ec3f-4a6d-b4f9-1b1579082916",
   "metadata": {},
   "outputs": [],
   "source": []
  }
 ],
 "metadata": {
  "kernelspec": {
   "display_name": "Python 3 (ipykernel)",
   "language": "python",
   "name": "python3"
  },
  "language_info": {
   "codemirror_mode": {
    "name": "ipython",
    "version": 3
   },
   "file_extension": ".py",
   "mimetype": "text/x-python",
   "name": "python",
   "nbconvert_exporter": "python",
   "pygments_lexer": "ipython3",
   "version": "3.13.1"
  }
 },
 "nbformat": 4,
 "nbformat_minor": 5
}
