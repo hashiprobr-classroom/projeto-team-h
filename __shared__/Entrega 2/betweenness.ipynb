{
 "cells": [
  {
   "cell_type": "code",
   "execution_count": 13,
   "id": "0faa33ee-19dc-4b09-b295-0647b507df2e",
   "metadata": {
    "execution": {
     "iopub.execute_input": "2025-05-14T17:34:15.939795Z",
     "iopub.status.busy": "2025-05-14T17:34:15.936890Z",
     "iopub.status.idle": "2025-05-14T17:34:16.022168Z",
     "shell.execute_reply": "2025-05-14T17:34:16.019594Z",
     "shell.execute_reply.started": "2025-05-14T17:34:15.938819Z"
    }
   },
   "outputs": [],
   "source": [
    "import netpixi\n",
    "import graph_tool_extras as gte\n",
    "\n",
    "from graph_tool import centrality"
   ]
  },
  {
   "cell_type": "code",
   "execution_count": 14,
   "id": "07b48a21-c49d-4f53-9560-658b6dfc1afd",
   "metadata": {
    "execution": {
     "iopub.execute_input": "2025-05-14T17:34:16.675484Z",
     "iopub.status.busy": "2025-05-14T17:34:16.674434Z",
     "iopub.status.idle": "2025-05-14T17:34:16.690613Z",
     "shell.execute_reply": "2025-05-14T17:34:16.688721Z",
     "shell.execute_reply.started": "2025-05-14T17:34:16.675426Z"
    }
   },
   "outputs": [],
   "source": [
    "# netpixi.render('entrega1.net.gz');"
   ]
  },
  {
   "cell_type": "code",
   "execution_count": 15,
   "id": "a4b29774-cff3-44df-9f7f-be2c33a77009",
   "metadata": {
    "execution": {
     "iopub.execute_input": "2025-05-14T17:34:17.223627Z",
     "iopub.status.busy": "2025-05-14T17:34:17.221940Z",
     "iopub.status.idle": "2025-05-14T17:34:17.604046Z",
     "shell.execute_reply": "2025-05-14T17:34:17.600306Z",
     "shell.execute_reply.started": "2025-05-14T17:34:17.223584Z"
    }
   },
   "outputs": [],
   "source": [
    "g = gte.load('../entrega1.net.gz')\n",
    "c, _ = centrality.betweenness(g)\n",
    "\n",
    "g.add_vp('betweenness', c)"
   ]
  },
  {
   "cell_type": "code",
   "execution_count": 16,
   "id": "c5651c59-86e0-4c5f-982e-59a77beb467c",
   "metadata": {
    "execution": {
     "iopub.execute_input": "2025-05-14T17:34:17.787043Z",
     "iopub.status.busy": "2025-05-14T17:34:17.785564Z",
     "iopub.status.idle": "2025-05-14T17:34:18.101804Z",
     "shell.execute_reply": "2025-05-14T17:34:18.100567Z",
     "shell.execute_reply.started": "2025-05-14T17:34:17.786997Z"
    }
   },
   "outputs": [],
   "source": [
    "gte.save(g, 'betweenness.net.gz')"
   ]
  },
  {
   "cell_type": "code",
   "execution_count": 17,
   "id": "dbeb24a1-af02-4dca-8350-817b3348ddb1",
   "metadata": {
    "execution": {
     "iopub.execute_input": "2025-05-14T17:34:18.469487Z",
     "iopub.status.busy": "2025-05-14T17:34:18.468975Z",
     "iopub.status.idle": "2025-05-14T17:34:18.518861Z",
     "shell.execute_reply": "2025-05-14T17:34:18.516690Z",
     "shell.execute_reply.started": "2025-05-14T17:34:18.469451Z"
    }
   },
   "outputs": [
    {
     "data": {
      "text/html": [
       "\n",
       "        <div id=\"W2UhA4SLXE9QjzDXfy3A9v\"></div>\n",
       "        <script>netpixi.render('W2UhA4SLXE9QjzDXfy3A9v', '/static/__shared__/Entrega 2/betweenness.net.gz', 1.7777777777777777, true, false, false, true);</script>\n",
       "    "
      ],
      "text/plain": [
       "<IPython.core.display.HTML object>"
      ]
     },
     "metadata": {},
     "output_type": "display_data"
    }
   ],
   "source": [
    "r = netpixi.render('betweenness.net.gz')"
   ]
  },
  {
   "cell_type": "code",
   "execution_count": 18,
   "id": "fe911643-cbcb-49f9-9da3-f82598c0af6b",
   "metadata": {
    "execution": {
     "iopub.execute_input": "2025-05-14T17:34:19.041806Z",
     "iopub.status.busy": "2025-05-14T17:34:19.040523Z",
     "iopub.status.idle": "2025-05-14T17:34:19.060801Z",
     "shell.execute_reply": "2025-05-14T17:34:19.059494Z",
     "shell.execute_reply.started": "2025-05-14T17:34:19.041766Z"
    }
   },
   "outputs": [
    {
     "data": {
      "text/html": [
       "\n",
       "        <div id=\"Y9e85WtM8otVCEoCm5QvuN\"></div>\n",
       "        <script>netpixi.call('Y9e85WtM8otVCEoCm5QvuN', 'W2UhA4SLXE9QjzDXfy3A9v', 'normalizeGraph', 'eyJ0eXBlIjogInZlcnRleCIsICJwcm9wcyI6IHsic3JjIjogImJldHdlZW5uZXNzIiwgIm1pbiI6IDEwLCAibWF4IjogMzB9fQo=');</script>\n",
       "    "
      ],
      "text/plain": [
       "<IPython.core.display.HTML object>"
      ]
     },
     "metadata": {},
     "output_type": "display_data"
    }
   ],
   "source": [
    "r.vertex_scale('betweenness', 10, 30)"
   ]
  },
  {
   "cell_type": "code",
   "execution_count": 19,
   "id": "336a9683-4dea-43a2-8b03-a57916815ab7",
   "metadata": {
    "execution": {
     "iopub.execute_input": "2025-05-14T17:34:19.732386Z",
     "iopub.status.busy": "2025-05-14T17:34:19.730060Z",
     "iopub.status.idle": "2025-05-14T17:34:19.758891Z",
     "shell.execute_reply": "2025-05-14T17:34:19.757092Z",
     "shell.execute_reply.started": "2025-05-14T17:34:19.732319Z"
    }
   },
   "outputs": [
    {
     "data": {
      "text/html": [
       "\n",
       "        <div id=\"JbPEpUkHFsGcnB8FZytoLg\"></div>\n",
       "        <script>netpixi.call('JbPEpUkHFsGcnB8FZytoLg', 'W2UhA4SLXE9QjzDXfy3A9v', 'changeGraph', 'eyJ0eXBlIjogInNldHRpbmdzIiwgInByb3BzIjogeyJ2ZXJ0ZXgiOiB7InNpemUiOiA4LCAiYndpZHRoIjogMX19fQo=');</script>\n",
       "    "
      ],
      "text/plain": [
       "<IPython.core.display.HTML object>"
      ]
     },
     "metadata": {},
     "output_type": "display_data"
    },
    {
     "data": {
      "text/html": [
       "\n",
       "        <div id=\"fgHcykSwzyMGcKNW9TkntK\"></div>\n",
       "        <script>netpixi.call('fgHcykSwzyMGcKNW9TkntK', 'W2UhA4SLXE9QjzDXfy3A9v', 'changeGraph', 'eyJ0eXBlIjogInNldHRpbmdzIiwgInByb3BzIjogeyJlZGdlIjogeyJ3aWR0aCI6IDAuNX19fQo=');</script>\n",
       "    "
      ],
      "text/plain": [
       "<IPython.core.display.HTML object>"
      ]
     },
     "metadata": {},
     "output_type": "display_data"
    }
   ],
   "source": [
    "r.vertex_default(size=8, bwidth=1)\n",
    "r.edge_default(width=0.5)"
   ]
  },
  {
   "cell_type": "code",
   "execution_count": 10,
   "id": "8a6a6f09-b0b8-4720-852f-46c45138eb0c",
   "metadata": {
    "execution": {
     "iopub.execute_input": "2025-05-14T13:20:10.090971Z",
     "iopub.status.busy": "2025-05-14T13:20:10.089201Z",
     "iopub.status.idle": "2025-05-14T13:20:10.108175Z",
     "shell.execute_reply": "2025-05-14T13:20:10.105035Z",
     "shell.execute_reply.started": "2025-05-14T13:20:10.090912Z"
    }
   },
   "outputs": [
    {
     "name": "stdout",
     "output_type": "stream",
     "text": [
      "['Brighton', 'Chelsea', 'Fulham', 'Southampton', 'Aston Villa', 'Burnley', 'Manchester City', 'Watford', 'West Ham', 'Manchester Utd']\n"
     ]
    }
   ],
   "source": [
    "vertex_ids = [v for v in g.vertices()]\n",
    "betweenness_values = [g.vp.betweenness[v] for v in vertex_ids]\n",
    "vertex_names = [g.vp.id[v] for v in vertex_ids]\n",
    "\n",
    "top = []\n",
    "\n",
    "qnt = 10\n",
    "for i in range(qnt):\n",
    "    maximo = betweenness_values.index(max(betweenness_values))\n",
    "    top.append(vertex_names[maximo])\n",
    "    betweenness_values.pop(maximo)\n",
    "    vertex_names.pop(maximo)\n",
    "\n",
    "\n",
    "print(top)"
   ]
  },
  {
   "cell_type": "code",
   "execution_count": 9,
   "id": "4f3e2b41-f312-4b49-8761-7d70e38d118b",
   "metadata": {
    "execution": {
     "iopub.execute_input": "2025-05-14T13:18:54.912657Z",
     "iopub.status.busy": "2025-05-14T13:18:54.911066Z",
     "iopub.status.idle": "2025-05-14T13:18:54.924505Z",
     "shell.execute_reply": "2025-05-14T13:18:54.922174Z",
     "shell.execute_reply.started": "2025-05-14T13:18:54.912615Z"
    }
   },
   "outputs": [
    {
     "data": {
      "text/html": [
       "\n",
       "        <div id=\"HSKiBrBraLkA4qQ6soJaUY\"></div>\n",
       "        <script>netpixi.call('HSKiBrBraLkA4qQ6soJaUY', 'AyFSQBFmUR3K4QgLivwJAF', 'setGraph', 'eyJ0eXBlIjogInZlcnRleCIsICJwcm9wcyI6IHsic3JjIjogImlkIiwgImRzdCI6ICJfa2V5In19Cg==');</script>\n",
       "    "
      ],
      "text/plain": [
       "<IPython.core.display.HTML object>"
      ]
     },
     "metadata": {},
     "output_type": "display_data"
    }
   ],
   "source": [
    "r.vertex_set_key('id')"
   ]
  },
  {
   "cell_type": "code",
   "execution_count": null,
   "id": "7c3538af-1b4d-4d40-9fae-ed29ac775ed0",
   "metadata": {},
   "outputs": [],
   "source": []
  }
 ],
 "metadata": {
  "kernelspec": {
   "display_name": "Python 3 (ipykernel)",
   "language": "python",
   "name": "python3"
  },
  "language_info": {
   "codemirror_mode": {
    "name": "ipython",
    "version": 3
   },
   "file_extension": ".py",
   "mimetype": "text/x-python",
   "name": "python",
   "nbconvert_exporter": "python",
   "pygments_lexer": "ipython3",
   "version": "3.13.1"
  }
 },
 "nbformat": 4,
 "nbformat_minor": 5
}
