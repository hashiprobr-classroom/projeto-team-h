{
 "cells": [
  {
   "cell_type": "code",
   "execution_count": 2,
   "id": "0faa33ee-19dc-4b09-b295-0647b507df2e",
   "metadata": {
    "execution": {
     "iopub.execute_input": "2025-03-24T13:44:52.116672Z",
     "iopub.status.busy": "2025-03-24T13:44:52.115433Z",
     "iopub.status.idle": "2025-03-24T13:44:54.179385Z",
     "shell.execute_reply": "2025-03-24T13:44:54.178468Z",
     "shell.execute_reply.started": "2025-03-24T13:44:52.116615Z"
    }
   },
   "outputs": [
    {
     "data": {
      "text/html": [
       "\n",
       "    <script src=\"/static/.hidden/netpixi.min.js\"></script>\n"
      ],
      "text/plain": [
       "<IPython.core.display.HTML object>"
      ]
     },
     "metadata": {},
     "output_type": "display_data"
    }
   ],
   "source": [
    "import netpixi\n",
    "import graph_tool_extras as gte\n",
    "\n",
    "from graph_tool import centrality"
   ]
  },
  {
   "cell_type": "code",
   "execution_count": 3,
   "id": "07b48a21-c49d-4f53-9560-658b6dfc1afd",
   "metadata": {
    "execution": {
     "iopub.execute_input": "2025-03-24T13:44:54.181689Z",
     "iopub.status.busy": "2025-03-24T13:44:54.181031Z",
     "iopub.status.idle": "2025-03-24T13:44:54.187870Z",
     "shell.execute_reply": "2025-03-24T13:44:54.186118Z",
     "shell.execute_reply.started": "2025-03-24T13:44:54.181662Z"
    }
   },
   "outputs": [],
   "source": [
    "# netpixi.render('entrega1.net.gz');"
   ]
  },
  {
   "cell_type": "code",
   "execution_count": 4,
   "id": "a4b29774-cff3-44df-9f7f-be2c33a77009",
   "metadata": {
    "execution": {
     "iopub.execute_input": "2025-03-24T13:44:54.188999Z",
     "iopub.status.busy": "2025-03-24T13:44:54.188725Z",
     "iopub.status.idle": "2025-03-24T13:44:54.247652Z",
     "shell.execute_reply": "2025-03-24T13:44:54.246727Z",
     "shell.execute_reply.started": "2025-03-24T13:44:54.188974Z"
    }
   },
   "outputs": [],
   "source": [
    "g = gte.load('../entrega1.net.gz')\n",
    "c, _ = centrality.betweenness(g)\n",
    "\n",
    "g.add_vp('betweenness', c)"
   ]
  },
  {
   "cell_type": "code",
   "execution_count": 5,
   "id": "c5651c59-86e0-4c5f-982e-59a77beb467c",
   "metadata": {
    "execution": {
     "iopub.execute_input": "2025-03-24T13:44:54.250064Z",
     "iopub.status.busy": "2025-03-24T13:44:54.249254Z",
     "iopub.status.idle": "2025-03-24T13:44:54.324003Z",
     "shell.execute_reply": "2025-03-24T13:44:54.323078Z",
     "shell.execute_reply.started": "2025-03-24T13:44:54.250029Z"
    }
   },
   "outputs": [],
   "source": [
    "gte.save(g, 'betweenness.net.gz')"
   ]
  },
  {
   "cell_type": "code",
   "execution_count": 18,
   "id": "dbeb24a1-af02-4dca-8350-817b3348ddb1",
   "metadata": {
    "execution": {
     "iopub.execute_input": "2025-03-19T14:31:01.283965Z",
     "iopub.status.busy": "2025-03-19T14:31:01.282296Z",
     "iopub.status.idle": "2025-03-19T14:31:01.318349Z",
     "shell.execute_reply": "2025-03-19T14:31:01.316742Z",
     "shell.execute_reply.started": "2025-03-19T14:31:01.283931Z"
    }
   },
   "outputs": [
    {
     "data": {
      "text/html": [
       "\n",
       "        <div id=\"YrJSTydeN5AaKZtzrkdqni\"></div>\n",
       "        <script>netpixi.render('YrJSTydeN5AaKZtzrkdqni', '/static/__shared__/Entrega 2/betweenness.net.gz', 1.7777777777777777, true, false, false, true);</script>\n",
       "    "
      ],
      "text/plain": [
       "<IPython.core.display.HTML object>"
      ]
     },
     "metadata": {},
     "output_type": "display_data"
    }
   ],
   "source": [
    "r = netpixi.render('betweenness.net.gz')"
   ]
  },
  {
   "cell_type": "code",
   "execution_count": 19,
   "id": "fe911643-cbcb-49f9-9da3-f82598c0af6b",
   "metadata": {
    "execution": {
     "iopub.execute_input": "2025-03-19T14:31:01.928926Z",
     "iopub.status.busy": "2025-03-19T14:31:01.927785Z",
     "iopub.status.idle": "2025-03-19T14:31:01.959546Z",
     "shell.execute_reply": "2025-03-19T14:31:01.955889Z",
     "shell.execute_reply.started": "2025-03-19T14:31:01.928892Z"
    }
   },
   "outputs": [
    {
     "data": {
      "text/html": [
       "\n",
       "        <div id=\"Y84ko6SAfPT8Q52bbYL8aE\"></div>\n",
       "        <script>netpixi.call('Y84ko6SAfPT8Q52bbYL8aE', 'YrJSTydeN5AaKZtzrkdqni', 'normalizeGraph', 'eyJ0eXBlIjogInZlcnRleCIsICJwcm9wcyI6IHsic3JjIjogImJldHdlZW5uZXNzIiwgIm1pbiI6IDEwLCAibWF4IjogMzB9fQo=');</script>\n",
       "    "
      ],
      "text/plain": [
       "<IPython.core.display.HTML object>"
      ]
     },
     "metadata": {},
     "output_type": "display_data"
    }
   ],
   "source": [
    "r.vertex_scale('betweenness', 10, 30)"
   ]
  },
  {
   "cell_type": "code",
   "execution_count": 19,
   "id": "336a9683-4dea-43a2-8b03-a57916815ab7",
   "metadata": {
    "execution": {
     "iopub.execute_input": "2025-03-19T13:43:08.732003Z",
     "iopub.status.busy": "2025-03-19T13:43:08.730234Z",
     "iopub.status.idle": "2025-03-19T13:43:08.754268Z",
     "shell.execute_reply": "2025-03-19T13:43:08.753091Z",
     "shell.execute_reply.started": "2025-03-19T13:43:08.731920Z"
    }
   },
   "outputs": [
    {
     "data": {
      "text/html": [
       "\n",
       "        <div id=\"Duei5HhMRpVeNuQMtMmwXg\"></div>\n",
       "        <script>netpixi.call('Duei5HhMRpVeNuQMtMmwXg', '8RFH9w5pyRjjMZaBJeChiL', 'changeGraph', 'eyJ0eXBlIjogInNldHRpbmdzIiwgInByb3BzIjogeyJ2ZXJ0ZXgiOiB7InNpemUiOiA4LCAiYndpZHRoIjogMX19fQo=');</script>\n",
       "    "
      ],
      "text/plain": [
       "<IPython.core.display.HTML object>"
      ]
     },
     "metadata": {},
     "output_type": "display_data"
    },
    {
     "data": {
      "text/html": [
       "\n",
       "        <div id=\"3JKgJTGcNyUp8cLfut3zh8\"></div>\n",
       "        <script>netpixi.call('3JKgJTGcNyUp8cLfut3zh8', '8RFH9w5pyRjjMZaBJeChiL', 'changeGraph', 'eyJ0eXBlIjogInNldHRpbmdzIiwgInByb3BzIjogeyJlZGdlIjogeyJ3aWR0aCI6IDAuNX19fQo=');</script>\n",
       "    "
      ],
      "text/plain": [
       "<IPython.core.display.HTML object>"
      ]
     },
     "metadata": {},
     "output_type": "display_data"
    }
   ],
   "source": [
    "r.vertex_default(size=8, bwidth=1)\n",
    "r.edge_default(width=0.5)"
   ]
  },
  {
   "cell_type": "code",
   "execution_count": 10,
   "id": "8a6a6f09-b0b8-4720-852f-46c45138eb0c",
   "metadata": {
    "execution": {
     "iopub.execute_input": "2025-03-24T14:09:43.136612Z",
     "iopub.status.busy": "2025-03-24T14:09:43.135493Z",
     "iopub.status.idle": "2025-03-24T14:09:43.156367Z",
     "shell.execute_reply": "2025-03-24T14:09:43.154026Z",
     "shell.execute_reply.started": "2025-03-24T14:09:43.136554Z"
    }
   },
   "outputs": [
    {
     "name": "stdout",
     "output_type": "stream",
     "text": [
      "['Aston Villa', 'Crystal Palace', 'Manchester City', 'Chelsea FC', 'Inter']\n"
     ]
    }
   ],
   "source": [
    "vertex_ids = [v for v in g.vertices()]\n",
    "betweenness_values = [g.vp.betweenness[v] for v in vertex_ids]\n",
    "vertex_names = [g.vp.id[v] for v in vertex_ids]\n",
    "\n",
    "top = []\n",
    "\n",
    "qnt = 5\n",
    "for i in range(qnt):\n",
    "    maximo = betweenness_values.index(max(betweenness_values))\n",
    "    top.append(vertex_names[maximo])\n",
    "    betweenness_values.pop(maximo)\n",
    "    vertex_names.pop(maximo)\n",
    "\n",
    "\n",
    "print(top)"
   ]
  },
  {
   "cell_type": "code",
   "execution_count": null,
   "id": "4f3e2b41-f312-4b49-8761-7d70e38d118b",
   "metadata": {},
   "outputs": [],
   "source": []
  }
 ],
 "metadata": {
  "kernelspec": {
   "display_name": "Python 3 (ipykernel)",
   "language": "python",
   "name": "python3"
  },
  "language_info": {
   "codemirror_mode": {
    "name": "ipython",
    "version": 3
   },
   "file_extension": ".py",
   "mimetype": "text/x-python",
   "name": "python",
   "nbconvert_exporter": "python",
   "pygments_lexer": "ipython3",
   "version": "3.13.1"
  }
 },
 "nbformat": 4,
 "nbformat_minor": 5
}
