{
 "cells": [
  {
   "cell_type": "code",
   "execution_count": 1,
   "id": "eaba8157-c481-4a79-b2b3-85b9e534a655",
   "metadata": {
    "execution": {
     "iopub.execute_input": "2025-03-24T14:02:46.740943Z",
     "iopub.status.busy": "2025-03-24T14:02:46.740353Z",
     "iopub.status.idle": "2025-03-24T14:02:50.883596Z",
     "shell.execute_reply": "2025-03-24T14:02:50.882006Z",
     "shell.execute_reply.started": "2025-03-24T14:02:46.740890Z"
    }
   },
   "outputs": [
    {
     "data": {
      "text/html": [
       "\n",
       "    <script src=\"/static/.hidden/netpixi.min.js\"></script>\n"
      ],
      "text/plain": [
       "<IPython.core.display.HTML object>"
      ]
     },
     "metadata": {},
     "output_type": "display_data"
    }
   ],
   "source": [
    "import netpixi\n",
    "import graph_tool_extras as gte\n",
    "import cpnet"
   ]
  },
  {
   "cell_type": "code",
   "execution_count": 2,
   "id": "4ebf6552-a478-430c-9925-b109d4a0b794",
   "metadata": {
    "execution": {
     "iopub.execute_input": "2025-03-24T14:02:50.887048Z",
     "iopub.status.busy": "2025-03-24T14:02:50.885387Z",
     "iopub.status.idle": "2025-03-24T14:02:50.892293Z",
     "shell.execute_reply": "2025-03-24T14:02:50.890969Z",
     "shell.execute_reply.started": "2025-03-24T14:02:50.887005Z"
    }
   },
   "outputs": [],
   "source": [
    "# netpixi.render('../entrega1.net.gz');"
   ]
  },
  {
   "cell_type": "code",
   "execution_count": 3,
   "id": "6e52324b-72f7-483c-a2c7-b1e84aae6756",
   "metadata": {
    "execution": {
     "iopub.execute_input": "2025-03-24T14:02:50.893689Z",
     "iopub.status.busy": "2025-03-24T14:02:50.893271Z",
     "iopub.status.idle": "2025-03-24T14:03:01.020603Z",
     "shell.execute_reply": "2025-03-24T14:03:01.019038Z",
     "shell.execute_reply.started": "2025-03-24T14:02:50.893612Z"
    }
   },
   "outputs": [],
   "source": [
    "g = gte.load('../entrega1_ndir.net.gz')\n",
    "\n",
    "c, l = gte.coreness(g, cpnet.Surprise)"
   ]
  },
  {
   "cell_type": "code",
   "execution_count": 4,
   "id": "40c29a52-8ade-4767-bb17-a71dd408b626",
   "metadata": {
    "execution": {
     "iopub.execute_input": "2025-03-24T14:03:01.023182Z",
     "iopub.status.busy": "2025-03-24T14:03:01.022849Z",
     "iopub.status.idle": "2025-03-24T14:03:01.108157Z",
     "shell.execute_reply": "2025-03-24T14:03:01.107201Z",
     "shell.execute_reply.started": "2025-03-24T14:03:01.023152Z"
    }
   },
   "outputs": [],
   "source": [
    "g.add_converted_vp('color', c, lambda coreness: 0x00ff00 if round(coreness) == 1 else 0xff0000)\n",
    "\n",
    "gte.save(g, 'coreness_discreto.net.gz')"
   ]
  },
  {
   "cell_type": "code",
   "execution_count": 5,
   "id": "73f763f9-f700-4cb6-8488-c9da7774a568",
   "metadata": {
    "execution": {
     "iopub.execute_input": "2025-03-24T14:03:01.109710Z",
     "iopub.status.busy": "2025-03-24T14:03:01.108979Z",
     "iopub.status.idle": "2025-03-24T14:03:01.118629Z",
     "shell.execute_reply": "2025-03-24T14:03:01.117016Z",
     "shell.execute_reply.started": "2025-03-24T14:03:01.109672Z"
    }
   },
   "outputs": [
    {
     "data": {
      "text/html": [
       "\n",
       "        <div id=\"c4RxvhJF4wvGNzRPvRRyho\"></div>\n",
       "        <script>netpixi.render('c4RxvhJF4wvGNzRPvRRyho', '/static/__shared__/Entrega 2/coreness_discreto.net.gz', 1.7777777777777777, true, false, false, true);</script>\n",
       "    "
      ],
      "text/plain": [
       "<IPython.core.display.HTML object>"
      ]
     },
     "metadata": {},
     "output_type": "display_data"
    }
   ],
   "source": [
    "r = netpixi.render('coreness_discreto.net.gz');"
   ]
  },
  {
   "cell_type": "code",
   "execution_count": 6,
   "id": "382fe10d-2614-4fa8-8764-311fb708090e",
   "metadata": {
    "execution": {
     "iopub.execute_input": "2025-03-24T14:03:01.120187Z",
     "iopub.status.busy": "2025-03-24T14:03:01.119778Z",
     "iopub.status.idle": "2025-03-24T14:03:01.132777Z",
     "shell.execute_reply": "2025-03-24T14:03:01.131258Z",
     "shell.execute_reply.started": "2025-03-24T14:03:01.120153Z"
    }
   },
   "outputs": [
    {
     "data": {
      "text/html": [
       "\n",
       "        <div id=\"hCNNXh3SSSMtMTV3yaFUvq\"></div>\n",
       "        <script>netpixi.call('hCNNXh3SSSMtMTV3yaFUvq', 'c4RxvhJF4wvGNzRPvRRyho', 'changeGraph', 'eyJ0eXBlIjogInNldHRpbmdzIiwgInByb3BzIjogeyJ2ZXJ0ZXgiOiB7InNpemUiOiA4LCAiYndpZHRoIjogMX19fQo=');</script>\n",
       "    "
      ],
      "text/plain": [
       "<IPython.core.display.HTML object>"
      ]
     },
     "metadata": {},
     "output_type": "display_data"
    },
    {
     "data": {
      "text/html": [
       "\n",
       "        <div id=\"ZfV4tJtoKiRT7HiefgTvsc\"></div>\n",
       "        <script>netpixi.call('ZfV4tJtoKiRT7HiefgTvsc', 'c4RxvhJF4wvGNzRPvRRyho', 'changeGraph', 'eyJ0eXBlIjogInNldHRpbmdzIiwgInByb3BzIjogeyJlZGdlIjogeyJ3aWR0aCI6IDAuNX19fQo=');</script>\n",
       "    "
      ],
      "text/plain": [
       "<IPython.core.display.HTML object>"
      ]
     },
     "metadata": {},
     "output_type": "display_data"
    }
   ],
   "source": [
    "r.vertex_default(size=8, bwidth=1)\n",
    "r.edge_default(width=0.5)"
   ]
  },
  {
   "cell_type": "code",
   "execution_count": 7,
   "id": "606b0c65-e63c-4275-9dfd-763d9afc19bd",
   "metadata": {
    "execution": {
     "iopub.execute_input": "2025-03-24T14:03:01.134330Z",
     "iopub.status.busy": "2025-03-24T14:03:01.133975Z",
     "iopub.status.idle": "2025-03-24T14:03:03.226871Z",
     "shell.execute_reply": "2025-03-24T14:03:03.225901Z",
     "shell.execute_reply.started": "2025-03-24T14:03:01.134301Z"
    }
   },
   "outputs": [],
   "source": [
    "c, l = gte.coreness(g, cpnet.Rombach)"
   ]
  },
  {
   "cell_type": "code",
   "execution_count": 8,
   "id": "337da12f-9b8f-4721-b232-c184376d04da",
   "metadata": {
    "execution": {
     "iopub.execute_input": "2025-03-24T14:03:03.228464Z",
     "iopub.status.busy": "2025-03-24T14:03:03.227948Z",
     "iopub.status.idle": "2025-03-24T14:03:03.354992Z",
     "shell.execute_reply": "2025-03-24T14:03:03.354011Z",
     "shell.execute_reply.started": "2025-03-24T14:03:03.228407Z"
    }
   },
   "outputs": [],
   "source": [
    "g.add_vp('coreness_continuo', c)\n",
    "\n",
    "gte.save(g, 'coreness_continuo.net.gz')"
   ]
  },
  {
   "cell_type": "code",
   "execution_count": 11,
   "id": "632a35bb-dbff-4af2-ae3f-71549804040b",
   "metadata": {
    "execution": {
     "iopub.execute_input": "2025-03-24T14:03:28.793962Z",
     "iopub.status.busy": "2025-03-24T14:03:28.792928Z",
     "iopub.status.idle": "2025-03-24T14:03:28.919606Z",
     "shell.execute_reply": "2025-03-24T14:03:28.918324Z",
     "shell.execute_reply.started": "2025-03-24T14:03:28.793901Z"
    }
   },
   "outputs": [
    {
     "data": {
      "text/html": [
       "\n",
       "        <div id=\"P76cMDtwMQg3cqGEHWicBh\"></div>\n",
       "        <script>netpixi.render('P76cMDtwMQg3cqGEHWicBh', '/static/__shared__/Entrega 2/coreness_continuo.net.gz', 1.7777777777777777, true, false, false, true);</script>\n",
       "    "
      ],
      "text/plain": [
       "<IPython.core.display.HTML object>"
      ]
     },
     "metadata": {},
     "output_type": "display_data"
    }
   ],
   "source": [
    "r = netpixi.render('coreness_continuo.net.gz')"
   ]
  },
  {
   "cell_type": "code",
   "execution_count": 10,
   "id": "c7d416b4-3aa8-4623-aa2d-54f9973b5e74",
   "metadata": {
    "execution": {
     "iopub.execute_input": "2025-03-24T14:03:03.389765Z",
     "iopub.status.busy": "2025-03-24T14:03:03.389363Z",
     "iopub.status.idle": "2025-03-24T14:03:03.403252Z",
     "shell.execute_reply": "2025-03-24T14:03:03.402146Z",
     "shell.execute_reply.started": "2025-03-24T14:03:03.389731Z"
    }
   },
   "outputs": [
    {
     "data": {
      "text/html": [
       "\n",
       "        <div id=\"LBjU3wmyqAJWoGUAnN44qP\"></div>\n",
       "        <script>netpixi.call('LBjU3wmyqAJWoGUAnN44qP', 'ZnyJRu96pkYg9QPtcTzmgU', 'normalizeGraph', 'eyJ0eXBlIjogInZlcnRleCIsICJwcm9wcyI6IHsic3JjIjogImNvcmVuZXNzX2NvbnRpbnVvIiwgIm1pbiI6IDUsICJtYXgiOiA1MH19Cg==');</script>\n",
       "    "
      ],
      "text/plain": [
       "<IPython.core.display.HTML object>"
      ]
     },
     "metadata": {},
     "output_type": "display_data"
    }
   ],
   "source": [
    "r.vertex_scale('coreness_continuo', 5, 50)"
   ]
  },
  {
   "cell_type": "code",
   "execution_count": 12,
   "id": "09db62d8-ef71-434b-ba77-b03249988cd3",
   "metadata": {
    "execution": {
     "iopub.execute_input": "2025-03-24T14:03:33.553322Z",
     "iopub.status.busy": "2025-03-24T14:03:33.550698Z",
     "iopub.status.idle": "2025-03-24T14:03:33.564550Z",
     "shell.execute_reply": "2025-03-24T14:03:33.562970Z",
     "shell.execute_reply.started": "2025-03-24T14:03:33.553263Z"
    }
   },
   "outputs": [
    {
     "data": {
      "text/html": [
       "\n",
       "        <div id=\"NMdUzGZKi54ZnGnmWoqsLc\"></div>\n",
       "        <script>netpixi.call('NMdUzGZKi54ZnGnmWoqsLc', 'P76cMDtwMQg3cqGEHWicBh', 'setGraph', 'eyJ0eXBlIjogInZlcnRleCIsICJwcm9wcyI6IHsic3JjIjogImlkIiwgImRzdCI6ICJfa2V5In19Cg==');</script>\n",
       "    "
      ],
      "text/plain": [
       "<IPython.core.display.HTML object>"
      ]
     },
     "metadata": {},
     "output_type": "display_data"
    }
   ],
   "source": [
    "r.vertex_set_key('id')"
   ]
  },
  {
   "cell_type": "code",
   "execution_count": 13,
   "id": "82674c9d-5f7c-4b96-b468-5f1b9e34a10a",
   "metadata": {
    "execution": {
     "iopub.execute_input": "2025-03-24T14:03:51.438581Z",
     "iopub.status.busy": "2025-03-24T14:03:51.436715Z",
     "iopub.status.idle": "2025-03-24T14:03:51.450144Z",
     "shell.execute_reply": "2025-03-24T14:03:51.448780Z",
     "shell.execute_reply.started": "2025-03-24T14:03:51.438506Z"
    }
   },
   "outputs": [
    {
     "data": {
      "text/html": [
       "\n",
       "        <div id=\"D9KDC7ESyKSVqstebSeiwA\"></div>\n",
       "        <script>netpixi.call('D9KDC7ESyKSVqstebSeiwA', 'P76cMDtwMQg3cqGEHWicBh', 'changeGraph', 'eyJ0eXBlIjogInNldHRpbmdzIiwgInByb3BzIjogeyJ2ZXJ0ZXgiOiB7InNpemUiOiA4LCAiYndpZHRoIjogMX19fQo=');</script>\n",
       "    "
      ],
      "text/plain": [
       "<IPython.core.display.HTML object>"
      ]
     },
     "metadata": {},
     "output_type": "display_data"
    }
   ],
   "source": [
    "r.vertex_default(size=8, bwidth=1)"
   ]
  },
  {
   "cell_type": "code",
   "execution_count": 14,
   "id": "c92c551c-e372-4bac-9962-f6aa9f3cfb98",
   "metadata": {
    "execution": {
     "iopub.execute_input": "2025-03-24T14:05:39.437122Z",
     "iopub.status.busy": "2025-03-24T14:05:39.436299Z",
     "iopub.status.idle": "2025-03-24T14:05:39.451666Z",
     "shell.execute_reply": "2025-03-24T14:05:39.449558Z",
     "shell.execute_reply.started": "2025-03-24T14:05:39.437062Z"
    }
   },
   "outputs": [
    {
     "data": {
      "text/html": [
       "\n",
       "        <div id=\"HNjoPAuBLFF9Rqk4yBLyzz\"></div>\n",
       "        <script>netpixi.call('HNjoPAuBLFF9Rqk4yBLyzz', 'P76cMDtwMQg3cqGEHWicBh', 'changeGraph', 'eyJ0eXBlIjogInNldHRpbmdzIiwgInByb3BzIjogeyJlZGdlIjogeyJ3aWR0aCI6IDAuNX19fQo=');</script>\n",
       "    "
      ],
      "text/plain": [
       "<IPython.core.display.HTML object>"
      ]
     },
     "metadata": {},
     "output_type": "display_data"
    }
   ],
   "source": [
    "r.edge_default(width=0.5)"
   ]
  },
  {
   "cell_type": "code",
   "execution_count": null,
   "id": "2509fcca-7bf4-4e33-9ce0-525456729eb2",
   "metadata": {},
   "outputs": [],
   "source": []
  }
 ],
 "metadata": {
  "kernelspec": {
   "display_name": "Python 3 (ipykernel)",
   "language": "python",
   "name": "python3"
  },
  "language_info": {
   "codemirror_mode": {
    "name": "ipython",
    "version": 3
   },
   "file_extension": ".py",
   "mimetype": "text/x-python",
   "name": "python",
   "nbconvert_exporter": "python",
   "pygments_lexer": "ipython3",
   "version": "3.13.1"
  }
 },
 "nbformat": 4,
 "nbformat_minor": 5
}
