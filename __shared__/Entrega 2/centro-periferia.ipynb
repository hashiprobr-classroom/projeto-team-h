{
 "cells": [
  {
   "cell_type": "code",
   "execution_count": 4,
   "id": "eaba8157-c481-4a79-b2b3-85b9e534a655",
   "metadata": {
    "execution": {
     "iopub.execute_input": "2025-05-14T13:20:29.649253Z",
     "iopub.status.busy": "2025-05-14T13:20:29.648678Z",
     "iopub.status.idle": "2025-05-14T13:20:29.657962Z",
     "shell.execute_reply": "2025-05-14T13:20:29.656035Z",
     "shell.execute_reply.started": "2025-05-14T13:20:29.649203Z"
    }
   },
   "outputs": [],
   "source": [
    "import netpixi\n",
    "import graph_tool_extras as gte\n",
    "import cpnet"
   ]
  },
  {
   "cell_type": "code",
   "execution_count": 5,
   "id": "4ebf6552-a478-430c-9925-b109d4a0b794",
   "metadata": {
    "execution": {
     "iopub.execute_input": "2025-05-14T13:20:30.203641Z",
     "iopub.status.busy": "2025-05-14T13:20:30.203120Z",
     "iopub.status.idle": "2025-05-14T13:20:30.210365Z",
     "shell.execute_reply": "2025-05-14T13:20:30.208388Z",
     "shell.execute_reply.started": "2025-05-14T13:20:30.203591Z"
    }
   },
   "outputs": [],
   "source": [
    "# netpixi.render('../entrega1.net.gz');"
   ]
  },
  {
   "cell_type": "code",
   "execution_count": 7,
   "id": "6e52324b-72f7-483c-a2c7-b1e84aae6756",
   "metadata": {
    "execution": {
     "iopub.execute_input": "2025-05-14T13:21:09.989988Z",
     "iopub.status.busy": "2025-05-14T13:21:09.989082Z",
     "iopub.status.idle": "2025-05-14T13:21:19.557346Z",
     "shell.execute_reply": "2025-05-14T13:21:19.556460Z",
     "shell.execute_reply.started": "2025-05-14T13:21:09.989932Z"
    }
   },
   "outputs": [],
   "source": [
    "g = gte.load('../entrega1.net.gz')\n",
    "\n",
    "c, l = gte.coreness(g, cpnet.Surprise)"
   ]
  },
  {
   "cell_type": "code",
   "execution_count": 8,
   "id": "40c29a52-8ade-4767-bb17-a71dd408b626",
   "metadata": {
    "execution": {
     "iopub.execute_input": "2025-05-14T13:21:19.559657Z",
     "iopub.status.busy": "2025-05-14T13:21:19.558834Z",
     "iopub.status.idle": "2025-05-14T13:21:19.642855Z",
     "shell.execute_reply": "2025-05-14T13:21:19.641672Z",
     "shell.execute_reply.started": "2025-05-14T13:21:19.559629Z"
    }
   },
   "outputs": [],
   "source": [
    "g.add_converted_vp('color', c, lambda coreness: 0x00ff00 if round(coreness) == 1 else 0xff0000)\n",
    "\n",
    "gte.save(g, 'coreness_discreto.net.gz')"
   ]
  },
  {
   "cell_type": "code",
   "execution_count": 9,
   "id": "73f763f9-f700-4cb6-8488-c9da7774a568",
   "metadata": {
    "execution": {
     "iopub.execute_input": "2025-05-14T13:21:20.742473Z",
     "iopub.status.busy": "2025-05-14T13:21:20.741387Z",
     "iopub.status.idle": "2025-05-14T13:21:20.756739Z",
     "shell.execute_reply": "2025-05-14T13:21:20.754916Z",
     "shell.execute_reply.started": "2025-05-14T13:21:20.742430Z"
    }
   },
   "outputs": [
    {
     "data": {
      "text/html": [
       "\n",
       "        <div id=\"PGdiyTbyvhhJpxmPtuJA27\"></div>\n",
       "        <script>netpixi.render('PGdiyTbyvhhJpxmPtuJA27', '/static/__shared__/Entrega 2/coreness_discreto.net.gz', 1.7777777777777777, true, false, false, true);</script>\n",
       "    "
      ],
      "text/plain": [
       "<IPython.core.display.HTML object>"
      ]
     },
     "metadata": {},
     "output_type": "display_data"
    }
   ],
   "source": [
    "r = netpixi.render('coreness_discreto.net.gz');"
   ]
  },
  {
   "cell_type": "code",
   "execution_count": 10,
   "id": "382fe10d-2614-4fa8-8764-311fb708090e",
   "metadata": {
    "execution": {
     "iopub.execute_input": "2025-05-14T13:21:26.399243Z",
     "iopub.status.busy": "2025-05-14T13:21:26.398442Z",
     "iopub.status.idle": "2025-05-14T13:21:26.420299Z",
     "shell.execute_reply": "2025-05-14T13:21:26.417495Z",
     "shell.execute_reply.started": "2025-05-14T13:21:26.399203Z"
    }
   },
   "outputs": [
    {
     "data": {
      "text/html": [
       "\n",
       "        <div id=\"2UyUM4XrXNGHeLZ8bF3GzG\"></div>\n",
       "        <script>netpixi.call('2UyUM4XrXNGHeLZ8bF3GzG', 'PGdiyTbyvhhJpxmPtuJA27', 'changeGraph', 'eyJ0eXBlIjogInNldHRpbmdzIiwgInByb3BzIjogeyJ2ZXJ0ZXgiOiB7InNpemUiOiA4LCAiYndpZHRoIjogMX19fQo=');</script>\n",
       "    "
      ],
      "text/plain": [
       "<IPython.core.display.HTML object>"
      ]
     },
     "metadata": {},
     "output_type": "display_data"
    },
    {
     "data": {
      "text/html": [
       "\n",
       "        <div id=\"CywUZUycjeWzhhqHqBvQSm\"></div>\n",
       "        <script>netpixi.call('CywUZUycjeWzhhqHqBvQSm', 'PGdiyTbyvhhJpxmPtuJA27', 'changeGraph', 'eyJ0eXBlIjogInNldHRpbmdzIiwgInByb3BzIjogeyJlZGdlIjogeyJ3aWR0aCI6IDAuNX19fQo=');</script>\n",
       "    "
      ],
      "text/plain": [
       "<IPython.core.display.HTML object>"
      ]
     },
     "metadata": {},
     "output_type": "display_data"
    }
   ],
   "source": [
    "r.vertex_default(size=8, bwidth=1)\n",
    "r.edge_default(width=0.5)"
   ]
  },
  {
   "cell_type": "code",
   "execution_count": 11,
   "id": "606b0c65-e63c-4275-9dfd-763d9afc19bd",
   "metadata": {
    "execution": {
     "iopub.execute_input": "2025-05-14T13:21:27.795462Z",
     "iopub.status.busy": "2025-05-14T13:21:27.794499Z",
     "iopub.status.idle": "2025-05-14T13:21:29.299766Z",
     "shell.execute_reply": "2025-05-14T13:21:29.298537Z",
     "shell.execute_reply.started": "2025-05-14T13:21:27.795413Z"
    }
   },
   "outputs": [],
   "source": [
    "c, l = gte.coreness(g, cpnet.Rombach)"
   ]
  },
  {
   "cell_type": "code",
   "execution_count": 12,
   "id": "337da12f-9b8f-4721-b232-c184376d04da",
   "metadata": {
    "execution": {
     "iopub.execute_input": "2025-05-14T13:21:29.308410Z",
     "iopub.status.busy": "2025-05-14T13:21:29.308001Z",
     "iopub.status.idle": "2025-05-14T13:21:29.427899Z",
     "shell.execute_reply": "2025-05-14T13:21:29.426959Z",
     "shell.execute_reply.started": "2025-05-14T13:21:29.308375Z"
    }
   },
   "outputs": [],
   "source": [
    "g.add_vp('coreness_continuo', c)\n",
    "\n",
    "gte.save(g, 'coreness_continuo.net.gz')"
   ]
  },
  {
   "cell_type": "code",
   "execution_count": 13,
   "id": "632a35bb-dbff-4af2-ae3f-71549804040b",
   "metadata": {
    "execution": {
     "iopub.execute_input": "2025-05-14T13:21:33.543577Z",
     "iopub.status.busy": "2025-05-14T13:21:33.542861Z",
     "iopub.status.idle": "2025-05-14T13:21:33.559474Z",
     "shell.execute_reply": "2025-05-14T13:21:33.558495Z",
     "shell.execute_reply.started": "2025-05-14T13:21:33.543532Z"
    }
   },
   "outputs": [
    {
     "data": {
      "text/html": [
       "\n",
       "        <div id=\"oKt2i26SgjS2URtrRqZKgR\"></div>\n",
       "        <script>netpixi.render('oKt2i26SgjS2URtrRqZKgR', '/static/__shared__/Entrega 2/coreness_continuo.net.gz', 1.7777777777777777, true, false, false, true);</script>\n",
       "    "
      ],
      "text/plain": [
       "<IPython.core.display.HTML object>"
      ]
     },
     "metadata": {},
     "output_type": "display_data"
    }
   ],
   "source": [
    "r = netpixi.render('coreness_continuo.net.gz')"
   ]
  },
  {
   "cell_type": "code",
   "execution_count": 14,
   "id": "c7d416b4-3aa8-4623-aa2d-54f9973b5e74",
   "metadata": {
    "execution": {
     "iopub.execute_input": "2025-05-14T13:21:35.476907Z",
     "iopub.status.busy": "2025-05-14T13:21:35.476143Z",
     "iopub.status.idle": "2025-05-14T13:21:35.491761Z",
     "shell.execute_reply": "2025-05-14T13:21:35.487521Z",
     "shell.execute_reply.started": "2025-05-14T13:21:35.476867Z"
    }
   },
   "outputs": [
    {
     "data": {
      "text/html": [
       "\n",
       "        <div id=\"ebhJ9akB965j72xAM8hDy6\"></div>\n",
       "        <script>netpixi.call('ebhJ9akB965j72xAM8hDy6', 'oKt2i26SgjS2URtrRqZKgR', 'normalizeGraph', 'eyJ0eXBlIjogInZlcnRleCIsICJwcm9wcyI6IHsic3JjIjogImNvcmVuZXNzX2NvbnRpbnVvIiwgIm1pbiI6IDUsICJtYXgiOiA1MH19Cg==');</script>\n",
       "    "
      ],
      "text/plain": [
       "<IPython.core.display.HTML object>"
      ]
     },
     "metadata": {},
     "output_type": "display_data"
    }
   ],
   "source": [
    "r.vertex_scale('coreness_continuo', 5, 50)"
   ]
  },
  {
   "cell_type": "code",
   "execution_count": 15,
   "id": "09db62d8-ef71-434b-ba77-b03249988cd3",
   "metadata": {
    "execution": {
     "iopub.execute_input": "2025-05-14T13:21:37.762078Z",
     "iopub.status.busy": "2025-05-14T13:21:37.761190Z",
     "iopub.status.idle": "2025-05-14T13:21:37.776922Z",
     "shell.execute_reply": "2025-05-14T13:21:37.774882Z",
     "shell.execute_reply.started": "2025-05-14T13:21:37.762040Z"
    }
   },
   "outputs": [
    {
     "data": {
      "text/html": [
       "\n",
       "        <div id=\"PWQc5Be5WQ9utKCYx8CJVc\"></div>\n",
       "        <script>netpixi.call('PWQc5Be5WQ9utKCYx8CJVc', 'oKt2i26SgjS2URtrRqZKgR', 'setGraph', 'eyJ0eXBlIjogInZlcnRleCIsICJwcm9wcyI6IHsic3JjIjogImlkIiwgImRzdCI6ICJfa2V5In19Cg==');</script>\n",
       "    "
      ],
      "text/plain": [
       "<IPython.core.display.HTML object>"
      ]
     },
     "metadata": {},
     "output_type": "display_data"
    }
   ],
   "source": [
    "r.vertex_set_key('id')"
   ]
  },
  {
   "cell_type": "code",
   "execution_count": 16,
   "id": "82674c9d-5f7c-4b96-b468-5f1b9e34a10a",
   "metadata": {
    "execution": {
     "iopub.execute_input": "2025-05-14T13:21:38.791432Z",
     "iopub.status.busy": "2025-05-14T13:21:38.787741Z",
     "iopub.status.idle": "2025-05-14T13:21:38.806051Z",
     "shell.execute_reply": "2025-05-14T13:21:38.804472Z",
     "shell.execute_reply.started": "2025-05-14T13:21:38.791236Z"
    }
   },
   "outputs": [
    {
     "data": {
      "text/html": [
       "\n",
       "        <div id=\"m55xSWNQeRCBos7Y5E5E3J\"></div>\n",
       "        <script>netpixi.call('m55xSWNQeRCBos7Y5E5E3J', 'oKt2i26SgjS2URtrRqZKgR', 'changeGraph', 'eyJ0eXBlIjogInNldHRpbmdzIiwgInByb3BzIjogeyJ2ZXJ0ZXgiOiB7InNpemUiOiA4LCAiYndpZHRoIjogMX19fQo=');</script>\n",
       "    "
      ],
      "text/plain": [
       "<IPython.core.display.HTML object>"
      ]
     },
     "metadata": {},
     "output_type": "display_data"
    }
   ],
   "source": [
    "r.vertex_default(size=8, bwidth=1)"
   ]
  },
  {
   "cell_type": "code",
   "execution_count": 17,
   "id": "c92c551c-e372-4bac-9962-f6aa9f3cfb98",
   "metadata": {
    "execution": {
     "iopub.execute_input": "2025-05-14T13:21:44.663215Z",
     "iopub.status.busy": "2025-05-14T13:21:44.662144Z",
     "iopub.status.idle": "2025-05-14T13:21:44.685722Z",
     "shell.execute_reply": "2025-05-14T13:21:44.684878Z",
     "shell.execute_reply.started": "2025-05-14T13:21:44.663110Z"
    }
   },
   "outputs": [
    {
     "data": {
      "text/html": [
       "\n",
       "        <div id=\"fearbTEZEaEWKwqpZAWxCN\"></div>\n",
       "        <script>netpixi.call('fearbTEZEaEWKwqpZAWxCN', 'oKt2i26SgjS2URtrRqZKgR', 'changeGraph', 'eyJ0eXBlIjogInNldHRpbmdzIiwgInByb3BzIjogeyJlZGdlIjogeyJ3aWR0aCI6IDAuNX19fQo=');</script>\n",
       "    "
      ],
      "text/plain": [
       "<IPython.core.display.HTML object>"
      ]
     },
     "metadata": {},
     "output_type": "display_data"
    }
   ],
   "source": [
    "r.edge_default(width=0.5)"
   ]
  },
  {
   "cell_type": "code",
   "execution_count": null,
   "id": "2509fcca-7bf4-4e33-9ce0-525456729eb2",
   "metadata": {},
   "outputs": [],
   "source": []
  }
 ],
 "metadata": {
  "kernelspec": {
   "display_name": "Python 3 (ipykernel)",
   "language": "python",
   "name": "python3"
  },
  "language_info": {
   "codemirror_mode": {
    "name": "ipython",
    "version": 3
   },
   "file_extension": ".py",
   "mimetype": "text/x-python",
   "name": "python",
   "nbconvert_exporter": "python",
   "pygments_lexer": "ipython3",
   "version": "3.13.1"
  }
 },
 "nbformat": 4,
 "nbformat_minor": 5
}
