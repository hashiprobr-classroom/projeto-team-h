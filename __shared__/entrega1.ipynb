{
 "cells": [
  {
   "cell_type": "code",
   "execution_count": 1,
   "id": "992cd5e6-bbf9-42bf-840b-721bc34a38ca",
   "metadata": {
    "execution": {
     "iopub.execute_input": "2025-05-14T13:17:40.811844Z",
     "iopub.status.busy": "2025-05-14T13:17:40.811198Z",
     "iopub.status.idle": "2025-05-14T13:17:47.045435Z",
     "shell.execute_reply": "2025-05-14T13:17:47.044050Z",
     "shell.execute_reply.started": "2025-05-14T13:17:40.811787Z"
    }
   },
   "outputs": [
    {
     "data": {
      "text/html": [
       "\n",
       "    <script src=\"/static/.hidden/netpixi.min.js\"></script>\n"
      ],
      "text/plain": [
       "<IPython.core.display.HTML object>"
      ]
     },
     "metadata": {},
     "output_type": "display_data"
    }
   ],
   "source": [
    "import os\n",
    "import pandas as pd\n",
    "\n",
    "import netpixi\n",
    "import graph_tool_extras as gte\n",
    "\n",
    "from graph_tool import draw\n",
    "\n",
    "path = \"../__shared__/data_base.csv\"\n",
    "data = pd.read_csv(path)\n",
    "# data.head(10)\n"
   ]
  },
  {
   "cell_type": "code",
   "execution_count": 2,
   "id": "f98a1027-1bbe-48ef-95a8-0252de895423",
   "metadata": {
    "execution": {
     "iopub.execute_input": "2025-05-14T13:18:03.154581Z",
     "iopub.status.busy": "2025-05-14T13:18:03.152566Z",
     "iopub.status.idle": "2025-05-14T13:18:03.189573Z",
     "shell.execute_reply": "2025-05-14T13:18:03.188391Z",
     "shell.execute_reply.started": "2025-05-14T13:18:03.154523Z"
    }
   },
   "outputs": [],
   "source": [
    "data_filtered = data.query('year >= 2020')\n",
    "data_filtered = data_filtered.sort_values(by='fee_cleaned', ascending=False)\n",
    "data_filtered = data_filtered.query('transfer_movement != \"out\"')\n",
    "# data_filtered.head()"
   ]
  },
  {
   "cell_type": "code",
   "execution_count": 3,
   "id": "9990bee0-a4a0-419e-a001-29a5e38fa228",
   "metadata": {
    "execution": {
     "iopub.execute_input": "2025-05-14T13:18:04.244702Z",
     "iopub.status.busy": "2025-05-14T13:18:04.243909Z",
     "iopub.status.idle": "2025-05-14T13:18:04.253388Z",
     "shell.execute_reply": "2025-05-14T13:18:04.251958Z",
     "shell.execute_reply.started": "2025-05-14T13:18:04.244663Z"
    }
   },
   "outputs": [],
   "source": [
    "filt = data_filtered.iloc[:,[0,4]] #club name é quem recebeu, club involved name é quem enviou\n",
    "total = filt.values.tolist()\n",
    "# total"
   ]
  },
  {
   "cell_type": "code",
   "execution_count": 4,
   "id": "a3dd6d00",
   "metadata": {
    "execution": {
     "iopub.execute_input": "2025-05-14T13:18:05.035221Z",
     "iopub.status.busy": "2025-05-14T13:18:05.034325Z",
     "iopub.status.idle": "2025-05-14T13:18:05.043882Z",
     "shell.execute_reply": "2025-05-14T13:18:05.042447Z",
     "shell.execute_reply.started": "2025-05-14T13:18:05.035186Z"
    }
   },
   "outputs": [
    {
     "name": "stdout",
     "output_type": "stream",
     "text": [
      "315\n",
      "['Wolves', 'Grasshoppers']\n"
     ]
    }
   ],
   "source": [
    "lista_times = []\n",
    "\n",
    "for trans in total:\n",
    "    if trans[0] not in lista_times:\n",
    "        lista_times.append(trans[0])\n",
    "    if trans[1] not in lista_times:\n",
    "        lista_times.append(trans[1])\n",
    "\n",
    "print(len(lista_times))\n",
    "print(trans)"
   ]
  },
  {
   "cell_type": "code",
   "execution_count": 5,
   "id": "5b2e8e97",
   "metadata": {
    "execution": {
     "iopub.execute_input": "2025-05-14T13:18:06.451746Z",
     "iopub.status.busy": "2025-05-14T13:18:06.450975Z",
     "iopub.status.idle": "2025-05-14T13:18:06.458969Z",
     "shell.execute_reply": "2025-05-14T13:18:06.456923Z",
     "shell.execute_reply.started": "2025-05-14T13:18:06.451696Z"
    }
   },
   "outputs": [],
   "source": [
    "import graph_tool_extras as gte"
   ]
  },
  {
   "cell_type": "code",
   "execution_count": 6,
   "id": "388d5edd-8915-4f1c-9a7e-76873ddda7ae",
   "metadata": {
    "execution": {
     "iopub.execute_input": "2025-05-14T13:18:07.195356Z",
     "iopub.status.busy": "2025-05-14T13:18:07.194230Z",
     "iopub.status.idle": "2025-05-14T13:18:07.211793Z",
     "shell.execute_reply": "2025-05-14T13:18:07.210497Z",
     "shell.execute_reply.started": "2025-05-14T13:18:07.195302Z"
    }
   },
   "outputs": [],
   "source": [
    "g = gte.Graph(directed=True) # DIFERENTE DE gte.Graph(), pois directed é falso por padrão"
   ]
  },
  {
   "cell_type": "code",
   "execution_count": 7,
   "id": "545323d2-9959-4043-b7fe-f08138f11819",
   "metadata": {
    "execution": {
     "iopub.execute_input": "2025-05-14T13:18:07.818666Z",
     "iopub.status.busy": "2025-05-14T13:18:07.817440Z",
     "iopub.status.idle": "2025-05-14T13:18:07.827284Z",
     "shell.execute_reply": "2025-05-14T13:18:07.825111Z",
     "shell.execute_reply.started": "2025-05-14T13:18:07.818620Z"
    }
   },
   "outputs": [],
   "source": [
    "g.add_vp('transacoes')\n",
    "g.add_vp('envios')\n",
    "g.add_vp('recebimentos')\n",
    "# g.add_ep('total')"
   ]
  },
  {
   "cell_type": "code",
   "execution_count": 8,
   "id": "f72ef19b-1aef-4159-a154-615eaf8ceb14",
   "metadata": {
    "execution": {
     "iopub.execute_input": "2025-05-14T13:18:08.513650Z",
     "iopub.status.busy": "2025-05-14T13:18:08.512553Z",
     "iopub.status.idle": "2025-05-14T13:18:08.522375Z",
     "shell.execute_reply": "2025-05-14T13:18:08.520390Z",
     "shell.execute_reply.started": "2025-05-14T13:18:08.513598Z"
    }
   },
   "outputs": [],
   "source": [
    "def get_or_add_vertex(g, id):\n",
    "    u = g.vertex_by_id(id)\n",
    "    if u is None:\n",
    "        u = g.add_vertex_by_id(id)\n",
    "        u['transacoes'] = 0\n",
    "        u['envios'] = 0\n",
    "        u['recebimentos'] = 0\n",
    "    return u"
   ]
  },
  {
   "cell_type": "code",
   "execution_count": 9,
   "id": "151e4d96-88b4-4400-ab68-1df26cf6e74f",
   "metadata": {
    "execution": {
     "iopub.execute_input": "2025-05-14T13:18:09.261629Z",
     "iopub.status.busy": "2025-05-14T13:18:09.260510Z",
     "iopub.status.idle": "2025-05-14T13:18:09.271198Z",
     "shell.execute_reply": "2025-05-14T13:18:09.268662Z",
     "shell.execute_reply.started": "2025-05-14T13:18:09.261572Z"
    }
   },
   "outputs": [],
   "source": [
    "def get_or_add_edge(g, t1, t0):\n",
    "    e = g.edge_by_ids(t1, t0)\n",
    "    if e is None:\n",
    "        e = g.add_edge_by_ids(t1, t0)\n",
    "        # e['total'] = 0\n",
    "        u1 = g.vertex_by_id(t1)\n",
    "        u2 = g.vertex_by_id(t0)\n",
    "        u1['transacoes'] += 1\n",
    "        u2['transacoes'] += 1\n",
    "        u1['envios'] += 1\n",
    "        u2['recebimentos'] += 1\n",
    "        \n",
    "    return e"
   ]
  },
  {
   "cell_type": "code",
   "execution_count": 10,
   "id": "1f35964d",
   "metadata": {
    "execution": {
     "iopub.execute_input": "2025-05-14T13:18:10.128113Z",
     "iopub.status.busy": "2025-05-14T13:18:10.126410Z",
     "iopub.status.idle": "2025-05-14T13:18:10.173687Z",
     "shell.execute_reply": "2025-05-14T13:18:10.172351Z",
     "shell.execute_reply.started": "2025-05-14T13:18:10.128072Z"
    }
   },
   "outputs": [],
   "source": [
    "for team in lista_times:\n",
    "    get_or_add_vertex(g,team)\n",
    "    # g.add_vertex_by_id(team)"
   ]
  },
  {
   "cell_type": "code",
   "execution_count": 11,
   "id": "ac2b2617-36b1-4580-9b89-735bfed1bce8",
   "metadata": {
    "execution": {
     "iopub.execute_input": "2025-05-14T13:18:10.744301Z",
     "iopub.status.busy": "2025-05-14T13:18:10.743531Z",
     "iopub.status.idle": "2025-05-14T13:18:10.890327Z",
     "shell.execute_reply": "2025-05-14T13:18:10.888770Z",
     "shell.execute_reply.started": "2025-05-14T13:18:10.744261Z"
    }
   },
   "outputs": [],
   "source": [
    "for trans in total:\n",
    "    get_or_add_edge(g,trans[1],trans[0])\n",
    "    # g.add_edge_by_ids(trans[1], trans[0])"
   ]
  },
  {
   "cell_type": "code",
   "execution_count": 12,
   "id": "e75a75af-08af-4867-ba61-63769080e311",
   "metadata": {
    "execution": {
     "iopub.execute_input": "2025-05-14T13:18:11.374127Z",
     "iopub.status.busy": "2025-05-14T13:18:11.373642Z",
     "iopub.status.idle": "2025-05-14T13:18:11.382189Z",
     "shell.execute_reply": "2025-05-14T13:18:11.380064Z",
     "shell.execute_reply.started": "2025-05-14T13:18:11.374083Z"
    }
   },
   "outputs": [],
   "source": [
    "# gte.save(g, 'teste1.net.gz')"
   ]
  },
  {
   "cell_type": "code",
   "execution_count": 13,
   "id": "4bb71dd1-a290-4652-a41e-c94cb8a96f46",
   "metadata": {
    "execution": {
     "iopub.execute_input": "2025-05-14T13:18:11.941824Z",
     "iopub.status.busy": "2025-05-14T13:18:11.940822Z",
     "iopub.status.idle": "2025-05-14T13:18:11.949111Z",
     "shell.execute_reply": "2025-05-14T13:18:11.946864Z",
     "shell.execute_reply.started": "2025-05-14T13:18:11.941785Z"
    }
   },
   "outputs": [],
   "source": [
    "# netpixi.render('../__shared__/teste1.net.gz');"
   ]
  },
  {
   "cell_type": "code",
   "execution_count": 14,
   "id": "a5ec80b1-ce15-499f-aac4-55a518fe584e",
   "metadata": {
    "execution": {
     "iopub.execute_input": "2025-05-14T13:18:14.775926Z",
     "iopub.status.busy": "2025-05-14T13:18:14.775258Z",
     "iopub.status.idle": "2025-05-14T13:18:15.265411Z",
     "shell.execute_reply": "2025-05-14T13:18:15.263974Z",
     "shell.execute_reply.started": "2025-05-14T13:18:14.775882Z"
    }
   },
   "outputs": [],
   "source": [
    "layout = draw.sfdp_layout(g)"
   ]
  },
  {
   "cell_type": "code",
   "execution_count": 15,
   "id": "34222a9b-85f3-4a7b-9b16-727cc4fc94eb",
   "metadata": {
    "execution": {
     "iopub.execute_input": "2025-05-14T13:18:15.993158Z",
     "iopub.status.busy": "2025-05-14T13:18:15.991694Z",
     "iopub.status.idle": "2025-05-14T13:18:16.160704Z",
     "shell.execute_reply": "2025-05-14T13:18:16.159079Z",
     "shell.execute_reply.started": "2025-05-14T13:18:15.993115Z"
    }
   },
   "outputs": [],
   "source": [
    "gte.move(g, layout)"
   ]
  },
  {
   "cell_type": "code",
   "execution_count": 16,
   "id": "f28dfa23-718f-4ec1-80ff-8198489cd5aa",
   "metadata": {
    "execution": {
     "iopub.execute_input": "2025-05-14T13:18:16.705621Z",
     "iopub.status.busy": "2025-05-14T13:18:16.704865Z",
     "iopub.status.idle": "2025-05-14T13:18:16.786805Z",
     "shell.execute_reply": "2025-05-14T13:18:16.785705Z",
     "shell.execute_reply.started": "2025-05-14T13:18:16.705573Z"
    }
   },
   "outputs": [],
   "source": [
    "gte.save(g, 'entrega1.net.gz')"
   ]
  },
  {
   "cell_type": "code",
   "execution_count": 17,
   "id": "3649afb3-239c-4014-bcf5-b5bde216ff5e",
   "metadata": {
    "execution": {
     "iopub.execute_input": "2025-05-14T13:18:17.422359Z",
     "iopub.status.busy": "2025-05-14T13:18:17.421143Z",
     "iopub.status.idle": "2025-05-14T13:18:17.431388Z",
     "shell.execute_reply": "2025-05-14T13:18:17.430119Z",
     "shell.execute_reply.started": "2025-05-14T13:18:17.422319Z"
    }
   },
   "outputs": [
    {
     "data": {
      "text/html": [
       "\n",
       "        <div id=\"PMBuLHKnjesVKaGnYaCmy7\"></div>\n",
       "        <script>netpixi.render('PMBuLHKnjesVKaGnYaCmy7', '/static/__shared__/entrega1.net.gz', 1.7777777777777777, true, true, false, true);</script>\n",
       "    "
      ],
      "text/plain": [
       "<IPython.core.display.HTML object>"
      ]
     },
     "metadata": {},
     "output_type": "display_data"
    }
   ],
   "source": [
    "r = netpixi.render('entrega1.net.gz', infinite=True)"
   ]
  },
  {
   "cell_type": "code",
   "execution_count": 18,
   "id": "c6663c3b-eb29-4065-b138-760e1ee52c6f",
   "metadata": {
    "execution": {
     "iopub.execute_input": "2025-05-14T13:18:31.203910Z",
     "iopub.status.busy": "2025-05-14T13:18:31.202960Z",
     "iopub.status.idle": "2025-05-14T13:18:31.216575Z",
     "shell.execute_reply": "2025-05-14T13:18:31.214919Z",
     "shell.execute_reply.started": "2025-05-14T13:18:31.203874Z"
    }
   },
   "outputs": [
    {
     "data": {
      "text/html": [
       "\n",
       "        <div id=\"idFyvNv27YAhw4g3gtiBzY\"></div>\n",
       "        <script>netpixi.call('idFyvNv27YAhw4g3gtiBzY', 'PMBuLHKnjesVKaGnYaCmy7', 'setGraph', 'eyJ0eXBlIjogInZlcnRleCIsICJwcm9wcyI6IHsic3JjIjogInRyYW5zYWNvZXMiLCAiZHN0IjogIl9rZXkifX0K');</script>\n",
       "    "
      ],
      "text/plain": [
       "<IPython.core.display.HTML object>"
      ]
     },
     "metadata": {},
     "output_type": "display_data"
    }
   ],
   "source": [
    "r.vertex_set_key('transacoes')"
   ]
  },
  {
   "cell_type": "code",
   "execution_count": 19,
   "id": "8642db5c-939b-43e8-8130-f658e441f0d5",
   "metadata": {
    "execution": {
     "iopub.execute_input": "2025-05-14T13:18:32.639602Z",
     "iopub.status.busy": "2025-05-14T13:18:32.639121Z",
     "iopub.status.idle": "2025-05-14T13:18:32.658267Z",
     "shell.execute_reply": "2025-05-14T13:18:32.656840Z",
     "shell.execute_reply.started": "2025-05-14T13:18:32.639559Z"
    }
   },
   "outputs": [
    {
     "data": {
      "text/html": [
       "\n",
       "        <div id=\"CM54j3AqsV3WH6kEMsrKrQ\"></div>\n",
       "        <script>netpixi.call('CM54j3AqsV3WH6kEMsrKrQ', 'PMBuLHKnjesVKaGnYaCmy7', 'setGraph', 'eyJ0eXBlIjogInZlcnRleCIsICJwcm9wcyI6IHsic3JjIjogImVudmlvcyIsICJkc3QiOiAiX2tleSJ9fQo=');</script>\n",
       "    "
      ],
      "text/plain": [
       "<IPython.core.display.HTML object>"
      ]
     },
     "metadata": {},
     "output_type": "display_data"
    }
   ],
   "source": [
    "r.vertex_set_key('envios')"
   ]
  },
  {
   "cell_type": "code",
   "execution_count": 20,
   "id": "72d977f0-7758-4ff7-b065-48d9813520a6",
   "metadata": {
    "execution": {
     "iopub.execute_input": "2025-05-14T13:18:33.372817Z",
     "iopub.status.busy": "2025-05-14T13:18:33.371680Z",
     "iopub.status.idle": "2025-05-14T13:18:33.386572Z",
     "shell.execute_reply": "2025-05-14T13:18:33.382976Z",
     "shell.execute_reply.started": "2025-05-14T13:18:33.372777Z"
    }
   },
   "outputs": [
    {
     "data": {
      "text/html": [
       "\n",
       "        <div id=\"4z7Vh2Xp2BdXtSwCE2apG3\"></div>\n",
       "        <script>netpixi.call('4z7Vh2Xp2BdXtSwCE2apG3', 'PMBuLHKnjesVKaGnYaCmy7', 'setGraph', 'eyJ0eXBlIjogInZlcnRleCIsICJwcm9wcyI6IHsic3JjIjogInJlY2ViaW1lbnRvcyIsICJkc3QiOiAiX2tleSJ9fQo=');</script>\n",
       "    "
      ],
      "text/plain": [
       "<IPython.core.display.HTML object>"
      ]
     },
     "metadata": {},
     "output_type": "display_data"
    }
   ],
   "source": [
    "r.vertex_set_key('recebimentos')"
   ]
  },
  {
   "cell_type": "code",
   "execution_count": 21,
   "id": "fafdff7d-dfee-4cc3-9b47-3b790c26e2ba",
   "metadata": {
    "execution": {
     "iopub.execute_input": "2025-05-14T13:18:34.156389Z",
     "iopub.status.busy": "2025-05-14T13:18:34.154961Z",
     "iopub.status.idle": "2025-05-14T13:18:34.173032Z",
     "shell.execute_reply": "2025-05-14T13:18:34.171927Z",
     "shell.execute_reply.started": "2025-05-14T13:18:34.156341Z"
    }
   },
   "outputs": [
    {
     "data": {
      "text/html": [
       "\n",
       "        <div id=\"GncjRyqEwkMpCSiSLi5b4c\"></div>\n",
       "        <script>netpixi.call('GncjRyqEwkMpCSiSLi5b4c', 'PMBuLHKnjesVKaGnYaCmy7', 'setGraph', 'eyJ0eXBlIjogInZlcnRleCIsICJwcm9wcyI6IHsic3JjIjogImlkIiwgImRzdCI6ICJfa2V5In19Cg==');</script>\n",
       "    "
      ],
      "text/plain": [
       "<IPython.core.display.HTML object>"
      ]
     },
     "metadata": {},
     "output_type": "display_data"
    }
   ],
   "source": [
    "r.vertex_set_key('id')"
   ]
  },
  {
   "cell_type": "code",
   "execution_count": 22,
   "id": "e5efda79-2219-4e7c-900f-90af94ed76af",
   "metadata": {
    "execution": {
     "iopub.execute_input": "2025-05-14T13:18:36.473550Z",
     "iopub.status.busy": "2025-05-14T13:18:36.472304Z",
     "iopub.status.idle": "2025-05-14T13:18:36.494838Z",
     "shell.execute_reply": "2025-05-14T13:18:36.491021Z",
     "shell.execute_reply.started": "2025-05-14T13:18:36.473502Z"
    }
   },
   "outputs": [
    {
     "data": {
      "text/html": [
       "\n",
       "        <div id=\"nm77YbwJeuvYRWAKiweczM\"></div>\n",
       "        <script>netpixi.call('nm77YbwJeuvYRWAKiweczM', 'PMBuLHKnjesVKaGnYaCmy7', 'deleteGraph', 'eyJ0eXBlIjogInZlcnRleCIsICJwcm9wcyI6IHsic3JjIjogIl9rZXkifX0K');</script>\n",
       "    "
      ],
      "text/plain": [
       "<IPython.core.display.HTML object>"
      ]
     },
     "metadata": {},
     "output_type": "display_data"
    }
   ],
   "source": [
    "r.vertex_unset_key()"
   ]
  },
  {
   "cell_type": "code",
   "execution_count": 23,
   "id": "bacf6271-19b7-45d8-99a3-19b9f50f46b4",
   "metadata": {
    "execution": {
     "iopub.execute_input": "2025-05-14T13:18:37.353417Z",
     "iopub.status.busy": "2025-05-14T13:18:37.352683Z",
     "iopub.status.idle": "2025-05-14T13:18:37.367810Z",
     "shell.execute_reply": "2025-05-14T13:18:37.363409Z",
     "shell.execute_reply.started": "2025-05-14T13:18:37.353383Z"
    }
   },
   "outputs": [
    {
     "data": {
      "text/html": [
       "\n",
       "        <div id=\"SsXvXakRFM27yrNe2ZBgYP\"></div>\n",
       "        <script>netpixi.call('SsXvXakRFM27yrNe2ZBgYP', 'PMBuLHKnjesVKaGnYaCmy7', 'changeGraph', 'eyJ0eXBlIjogInNldHRpbmdzIiwgInByb3BzIjogeyJ2ZXJ0ZXgiOiB7InNpemUiOiA4LCAiYndpZHRoIjogMX19fQo=');</script>\n",
       "    "
      ],
      "text/plain": [
       "<IPython.core.display.HTML object>"
      ]
     },
     "metadata": {},
     "output_type": "display_data"
    }
   ],
   "source": [
    "r.vertex_default(size=8, bwidth=1)"
   ]
  },
  {
   "cell_type": "code",
   "execution_count": 24,
   "id": "03fc3fb9-169f-4833-8d51-1aefc498e556",
   "metadata": {
    "execution": {
     "iopub.execute_input": "2025-05-14T13:18:37.921108Z",
     "iopub.status.busy": "2025-05-14T13:18:37.920397Z",
     "iopub.status.idle": "2025-05-14T13:18:37.938700Z",
     "shell.execute_reply": "2025-05-14T13:18:37.936473Z",
     "shell.execute_reply.started": "2025-05-14T13:18:37.921065Z"
    }
   },
   "outputs": [
    {
     "data": {
      "text/html": [
       "\n",
       "        <div id=\"GFUwbnmTQyEJyWYKrzCsBQ\"></div>\n",
       "        <script>netpixi.call('GFUwbnmTQyEJyWYKrzCsBQ', 'PMBuLHKnjesVKaGnYaCmy7', 'changeGraph', 'eyJ0eXBlIjogInNldHRpbmdzIiwgInByb3BzIjogeyJlZGdlIjogeyJ3aWR0aCI6IDAuNX19fQo=');</script>\n",
       "    "
      ],
      "text/plain": [
       "<IPython.core.display.HTML object>"
      ]
     },
     "metadata": {},
     "output_type": "display_data"
    }
   ],
   "source": [
    "r.edge_default(width=0.5)"
   ]
  },
  {
   "cell_type": "code",
   "execution_count": 25,
   "id": "0aa86c96",
   "metadata": {
    "execution": {
     "iopub.execute_input": "2025-05-14T13:18:38.719718Z",
     "iopub.status.busy": "2025-05-14T13:18:38.718908Z",
     "iopub.status.idle": "2025-05-14T13:18:38.730651Z",
     "shell.execute_reply": "2025-05-14T13:18:38.726846Z",
     "shell.execute_reply.started": "2025-05-14T13:18:38.719626Z"
    }
   },
   "outputs": [
    {
     "name": "stdout",
     "output_type": "stream",
     "text": [
      "Número de vértices: 315\n",
      "Número de arestas: 751\n"
     ]
    }
   ],
   "source": [
    "print(f\"Número de vértices: {g.num_vertices()}\")\n",
    "print(f\"Número de arestas: {g.num_edges()}\")"
   ]
  },
  {
   "cell_type": "code",
   "execution_count": null,
   "id": "2bccfd2d",
   "metadata": {},
   "outputs": [],
   "source": []
  }
 ],
 "metadata": {
  "kernelspec": {
   "display_name": "Python 3 (ipykernel)",
   "language": "python",
   "name": "python3"
  },
  "language_info": {
   "codemirror_mode": {
    "name": "ipython",
    "version": 3
   },
   "file_extension": ".py",
   "mimetype": "text/x-python",
   "name": "python",
   "nbconvert_exporter": "python",
   "pygments_lexer": "ipython3",
   "version": "3.13.1"
  }
 },
 "nbformat": 4,
 "nbformat_minor": 5
}
