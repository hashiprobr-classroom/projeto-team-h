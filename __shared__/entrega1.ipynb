{
 "cells": [
  {
   "cell_type": "code",
   "execution_count": 91,
   "id": "992cd5e6-bbf9-42bf-840b-721bc34a38ca",
   "metadata": {
    "execution": {
     "iopub.execute_input": "2025-03-19T19:17:06.728997Z",
     "iopub.status.busy": "2025-03-19T19:17:06.728531Z",
     "iopub.status.idle": "2025-03-19T19:17:06.922823Z",
     "shell.execute_reply": "2025-03-19T19:17:06.921690Z",
     "shell.execute_reply.started": "2025-03-19T19:17:06.728965Z"
    }
   },
   "outputs": [],
   "source": [
    "import os\n",
    "import pandas as pd\n",
    "\n",
    "import netpixi\n",
    "import graph_tool_extras as gte\n",
    "\n",
    "from graph_tool import draw\n",
    "\n",
    "path = \"../__shared__/premier-league.csv\"\n",
    "data = pd.read_csv(path)\n",
    "# data.head(10)\n"
   ]
  },
  {
   "cell_type": "code",
   "execution_count": 92,
   "id": "f98a1027-1bbe-48ef-95a8-0252de895423",
   "metadata": {
    "execution": {
     "iopub.execute_input": "2025-03-19T19:17:07.077718Z",
     "iopub.status.busy": "2025-03-19T19:17:07.076993Z",
     "iopub.status.idle": "2025-03-19T19:17:07.100516Z",
     "shell.execute_reply": "2025-03-19T19:17:07.099395Z",
     "shell.execute_reply.started": "2025-03-19T19:17:07.077689Z"
    }
   },
   "outputs": [],
   "source": [
    "data_filtered = data.query('year >= 2020')\n",
    "data_filtered = data_filtered.sort_values(by='fee_cleaned', ascending=False)\n",
    "data_filtered = data_filtered.query('transfer_movement != \"out\"')\n",
    "# data_filtered.head()"
   ]
  },
  {
   "cell_type": "code",
   "execution_count": 93,
   "id": "9990bee0-a4a0-419e-a001-29a5e38fa228",
   "metadata": {
    "execution": {
     "iopub.execute_input": "2025-03-19T19:17:07.478636Z",
     "iopub.status.busy": "2025-03-19T19:17:07.477393Z",
     "iopub.status.idle": "2025-03-19T19:17:07.488355Z",
     "shell.execute_reply": "2025-03-19T19:17:07.486741Z",
     "shell.execute_reply.started": "2025-03-19T19:17:07.478602Z"
    }
   },
   "outputs": [],
   "source": [
    "filt = data_filtered.iloc[:,[0,4]] #club name é quem recebeu, club involved name é quem enviou\n",
    "total = filt.values.tolist()\n",
    "# total"
   ]
  },
  {
   "cell_type": "code",
   "execution_count": 94,
   "id": "a3dd6d00",
   "metadata": {
    "execution": {
     "iopub.execute_input": "2025-03-19T19:17:07.812484Z",
     "iopub.status.busy": "2025-03-19T19:17:07.811970Z",
     "iopub.status.idle": "2025-03-19T19:17:07.821374Z",
     "shell.execute_reply": "2025-03-19T19:17:07.820006Z",
     "shell.execute_reply.started": "2025-03-19T19:17:07.812459Z"
    }
   },
   "outputs": [
    {
     "name": "stdout",
     "output_type": "stream",
     "text": [
      "330\n",
      "['Wolverhampton Wanderers', 'Grasshoppers']\n"
     ]
    }
   ],
   "source": [
    "lista_times = []\n",
    "\n",
    "for trans in total:\n",
    "    if trans[0] not in lista_times:\n",
    "        lista_times.append(trans[0])\n",
    "    if trans[1] not in lista_times:\n",
    "        lista_times.append(trans[1])\n",
    "\n",
    "print(len(lista_times))\n",
    "print(trans)"
   ]
  },
  {
   "cell_type": "code",
   "execution_count": 95,
   "id": "5b2e8e97",
   "metadata": {
    "execution": {
     "iopub.execute_input": "2025-03-19T19:17:08.343399Z",
     "iopub.status.busy": "2025-03-19T19:17:08.342699Z",
     "iopub.status.idle": "2025-03-19T19:17:08.349951Z",
     "shell.execute_reply": "2025-03-19T19:17:08.348298Z",
     "shell.execute_reply.started": "2025-03-19T19:17:08.343358Z"
    }
   },
   "outputs": [],
   "source": [
    "import graph_tool_extras as gte"
   ]
  },
  {
   "cell_type": "code",
   "execution_count": 107,
   "id": "388d5edd-8915-4f1c-9a7e-76873ddda7ae",
   "metadata": {
    "execution": {
     "iopub.execute_input": "2025-03-19T19:17:29.301703Z",
     "iopub.status.busy": "2025-03-19T19:17:29.301050Z",
     "iopub.status.idle": "2025-03-19T19:17:29.307198Z",
     "shell.execute_reply": "2025-03-19T19:17:29.306084Z",
     "shell.execute_reply.started": "2025-03-19T19:17:29.301665Z"
    }
   },
   "outputs": [],
   "source": [
    "g = gte.Graph(directed=True) # DIFERENTE DE gte.Graph(), pois directed é falso por padrão"
   ]
  },
  {
   "cell_type": "code",
   "execution_count": 108,
   "id": "545323d2-9959-4043-b7fe-f08138f11819",
   "metadata": {
    "execution": {
     "iopub.execute_input": "2025-03-19T19:17:29.550847Z",
     "iopub.status.busy": "2025-03-19T19:17:29.550228Z",
     "iopub.status.idle": "2025-03-19T19:17:29.556726Z",
     "shell.execute_reply": "2025-03-19T19:17:29.555419Z",
     "shell.execute_reply.started": "2025-03-19T19:17:29.550814Z"
    }
   },
   "outputs": [],
   "source": [
    "g.add_vp('transacoes')\n",
    "g.add_vp('envios')\n",
    "g.add_vp('recebimentos')\n",
    "# g.add_ep('total')"
   ]
  },
  {
   "cell_type": "code",
   "execution_count": 109,
   "id": "f72ef19b-1aef-4159-a154-615eaf8ceb14",
   "metadata": {
    "execution": {
     "iopub.execute_input": "2025-03-19T19:17:29.818259Z",
     "iopub.status.busy": "2025-03-19T19:17:29.817454Z",
     "iopub.status.idle": "2025-03-19T19:17:29.824723Z",
     "shell.execute_reply": "2025-03-19T19:17:29.823307Z",
     "shell.execute_reply.started": "2025-03-19T19:17:29.818214Z"
    }
   },
   "outputs": [],
   "source": [
    "def get_or_add_vertex(g, id):\n",
    "    u = g.vertex_by_id(id)\n",
    "    if u is None:\n",
    "        u = g.add_vertex_by_id(id)\n",
    "        u['transacoes'] = 0\n",
    "        u['envios'] = 0\n",
    "        u['recebimentos'] = 0\n",
    "    return u"
   ]
  },
  {
   "cell_type": "code",
   "execution_count": 110,
   "id": "151e4d96-88b4-4400-ab68-1df26cf6e74f",
   "metadata": {
    "execution": {
     "iopub.execute_input": "2025-03-19T19:17:30.035917Z",
     "iopub.status.busy": "2025-03-19T19:17:30.035140Z",
     "iopub.status.idle": "2025-03-19T19:17:30.043499Z",
     "shell.execute_reply": "2025-03-19T19:17:30.041732Z",
     "shell.execute_reply.started": "2025-03-19T19:17:30.035871Z"
    }
   },
   "outputs": [],
   "source": [
    "def get_or_add_edge(g, t1, t0):\n",
    "    e = g.edge_by_ids(t1, t0)\n",
    "    if e is None:\n",
    "        e = g.add_edge_by_ids(t1, t0)\n",
    "        # e['total'] = 0\n",
    "        u1 = g.vertex_by_id(t1)\n",
    "        u2 = g.vertex_by_id(t0)\n",
    "        u1['transacoes'] += 1\n",
    "        u2['transacoes'] += 1\n",
    "        u1['envios'] += 1\n",
    "        u2['recebimentos'] += 1\n",
    "        \n",
    "    return e"
   ]
  },
  {
   "cell_type": "code",
   "execution_count": 111,
   "id": "1f35964d",
   "metadata": {
    "execution": {
     "iopub.execute_input": "2025-03-19T19:17:30.248508Z",
     "iopub.status.busy": "2025-03-19T19:17:30.247922Z",
     "iopub.status.idle": "2025-03-19T19:17:30.265092Z",
     "shell.execute_reply": "2025-03-19T19:17:30.263692Z",
     "shell.execute_reply.started": "2025-03-19T19:17:30.248472Z"
    }
   },
   "outputs": [],
   "source": [
    "for team in lista_times:\n",
    "    get_or_add_vertex(g,team)\n",
    "    # g.add_vertex_by_id(team)"
   ]
  },
  {
   "cell_type": "code",
   "execution_count": 112,
   "id": "ac2b2617-36b1-4580-9b89-735bfed1bce8",
   "metadata": {
    "execution": {
     "iopub.execute_input": "2025-03-19T19:17:30.449890Z",
     "iopub.status.busy": "2025-03-19T19:17:30.449178Z",
     "iopub.status.idle": "2025-03-19T19:17:30.523002Z",
     "shell.execute_reply": "2025-03-19T19:17:30.521594Z",
     "shell.execute_reply.started": "2025-03-19T19:17:30.449850Z"
    }
   },
   "outputs": [],
   "source": [
    "for trans in total:\n",
    "    get_or_add_edge(g,trans[1],trans[0])\n",
    "    # g.add_edge_by_ids(trans[1], trans[0])"
   ]
  },
  {
   "cell_type": "code",
   "execution_count": 113,
   "id": "e75a75af-08af-4867-ba61-63769080e311",
   "metadata": {
    "execution": {
     "iopub.execute_input": "2025-03-19T19:17:30.664567Z",
     "iopub.status.busy": "2025-03-19T19:17:30.663326Z",
     "iopub.status.idle": "2025-03-19T19:17:30.669412Z",
     "shell.execute_reply": "2025-03-19T19:17:30.667970Z",
     "shell.execute_reply.started": "2025-03-19T19:17:30.664525Z"
    }
   },
   "outputs": [],
   "source": [
    "# gte.save(g, 'teste1.net.gz')"
   ]
  },
  {
   "cell_type": "code",
   "execution_count": 114,
   "id": "4bb71dd1-a290-4652-a41e-c94cb8a96f46",
   "metadata": {
    "execution": {
     "iopub.execute_input": "2025-03-19T19:17:30.882646Z",
     "iopub.status.busy": "2025-03-19T19:17:30.881752Z",
     "iopub.status.idle": "2025-03-19T19:17:30.887812Z",
     "shell.execute_reply": "2025-03-19T19:17:30.886746Z",
     "shell.execute_reply.started": "2025-03-19T19:17:30.882603Z"
    }
   },
   "outputs": [],
   "source": [
    "# netpixi.render('../__shared__/teste1.net.gz');"
   ]
  },
  {
   "cell_type": "code",
   "execution_count": 115,
   "id": "a5ec80b1-ce15-499f-aac4-55a518fe584e",
   "metadata": {
    "execution": {
     "iopub.execute_input": "2025-03-19T19:17:31.181755Z",
     "iopub.status.busy": "2025-03-19T19:17:31.180740Z",
     "iopub.status.idle": "2025-03-19T19:17:31.869784Z",
     "shell.execute_reply": "2025-03-19T19:17:31.868664Z",
     "shell.execute_reply.started": "2025-03-19T19:17:31.181709Z"
    }
   },
   "outputs": [],
   "source": [
    "layout = draw.sfdp_layout(g)"
   ]
  },
  {
   "cell_type": "code",
   "execution_count": 116,
   "id": "34222a9b-85f3-4a7b-9b16-727cc4fc94eb",
   "metadata": {
    "execution": {
     "iopub.execute_input": "2025-03-19T19:17:31.971541Z",
     "iopub.status.busy": "2025-03-19T19:17:31.970168Z",
     "iopub.status.idle": "2025-03-19T19:17:32.248774Z",
     "shell.execute_reply": "2025-03-19T19:17:32.247671Z",
     "shell.execute_reply.started": "2025-03-19T19:17:31.971413Z"
    }
   },
   "outputs": [],
   "source": [
    "gte.move(g, layout)"
   ]
  },
  {
   "cell_type": "code",
   "execution_count": 117,
   "id": "f28dfa23-718f-4ec1-80ff-8198489cd5aa",
   "metadata": {
    "execution": {
     "iopub.execute_input": "2025-03-19T19:17:32.253897Z",
     "iopub.status.busy": "2025-03-19T19:17:32.252705Z",
     "iopub.status.idle": "2025-03-19T19:17:32.355278Z",
     "shell.execute_reply": "2025-03-19T19:17:32.353871Z",
     "shell.execute_reply.started": "2025-03-19T19:17:32.253857Z"
    }
   },
   "outputs": [],
   "source": [
    "gte.save(g, 'entrega1.net.gz')"
   ]
  },
  {
   "cell_type": "code",
   "execution_count": 118,
   "id": "3649afb3-239c-4014-bcf5-b5bde216ff5e",
   "metadata": {
    "execution": {
     "iopub.execute_input": "2025-03-19T19:17:32.758788Z",
     "iopub.status.busy": "2025-03-19T19:17:32.758195Z",
     "iopub.status.idle": "2025-03-19T19:17:32.773614Z",
     "shell.execute_reply": "2025-03-19T19:17:32.772102Z",
     "shell.execute_reply.started": "2025-03-19T19:17:32.758742Z"
    }
   },
   "outputs": [
    {
     "data": {
      "text/html": [
       "\n",
       "        <div id=\"C7RPULudYPA8gUCdrrJs3Y\"></div>\n",
       "        <script>netpixi.render('C7RPULudYPA8gUCdrrJs3Y', '/static/__shared__/entrega1.net.gz', 1.7777777777777777, true, true, false, true);</script>\n",
       "    "
      ],
      "text/plain": [
       "<IPython.core.display.HTML object>"
      ]
     },
     "metadata": {},
     "output_type": "display_data"
    }
   ],
   "source": [
    "r = netpixi.render('entrega1.net.gz', infinite=True)"
   ]
  },
  {
   "cell_type": "code",
   "execution_count": 119,
   "id": "c6663c3b-eb29-4065-b138-760e1ee52c6f",
   "metadata": {
    "execution": {
     "iopub.execute_input": "2025-03-19T19:17:33.672576Z",
     "iopub.status.busy": "2025-03-19T19:17:33.670592Z",
     "iopub.status.idle": "2025-03-19T19:17:33.683269Z",
     "shell.execute_reply": "2025-03-19T19:17:33.681968Z",
     "shell.execute_reply.started": "2025-03-19T19:17:33.672474Z"
    }
   },
   "outputs": [
    {
     "data": {
      "text/html": [
       "\n",
       "        <div id=\"edHkL86vf8eAzuxGDC5iVC\"></div>\n",
       "        <script>netpixi.call('edHkL86vf8eAzuxGDC5iVC', 'C7RPULudYPA8gUCdrrJs3Y', 'setGraph', 'eyJ0eXBlIjogInZlcnRleCIsICJwcm9wcyI6IHsic3JjIjogInRyYW5zYWNvZXMiLCAiZHN0IjogIl9rZXkifX0K');</script>\n",
       "    "
      ],
      "text/plain": [
       "<IPython.core.display.HTML object>"
      ]
     },
     "metadata": {},
     "output_type": "display_data"
    }
   ],
   "source": [
    "r.vertex_set_key('transacoes')"
   ]
  },
  {
   "cell_type": "code",
   "execution_count": 120,
   "id": "8642db5c-939b-43e8-8130-f658e441f0d5",
   "metadata": {
    "execution": {
     "iopub.execute_input": "2025-03-19T19:17:34.078492Z",
     "iopub.status.busy": "2025-03-19T19:17:34.077517Z",
     "iopub.status.idle": "2025-03-19T19:17:34.125196Z",
     "shell.execute_reply": "2025-03-19T19:17:34.123987Z",
     "shell.execute_reply.started": "2025-03-19T19:17:34.078452Z"
    }
   },
   "outputs": [
    {
     "data": {
      "text/html": [
       "\n",
       "        <div id=\"Yuk5pBrdrtNrZg5RunotUG\"></div>\n",
       "        <script>netpixi.call('Yuk5pBrdrtNrZg5RunotUG', 'C7RPULudYPA8gUCdrrJs3Y', 'setGraph', 'eyJ0eXBlIjogInZlcnRleCIsICJwcm9wcyI6IHsic3JjIjogImVudmlvcyIsICJkc3QiOiAiX2tleSJ9fQo=');</script>\n",
       "    "
      ],
      "text/plain": [
       "<IPython.core.display.HTML object>"
      ]
     },
     "metadata": {},
     "output_type": "display_data"
    }
   ],
   "source": [
    "r.vertex_set_key('envios')"
   ]
  },
  {
   "cell_type": "code",
   "execution_count": 121,
   "id": "72d977f0-7758-4ff7-b065-48d9813520a6",
   "metadata": {
    "execution": {
     "iopub.execute_input": "2025-03-19T19:17:34.658416Z",
     "iopub.status.busy": "2025-03-19T19:17:34.657230Z",
     "iopub.status.idle": "2025-03-19T19:17:34.678522Z",
     "shell.execute_reply": "2025-03-19T19:17:34.677319Z",
     "shell.execute_reply.started": "2025-03-19T19:17:34.658368Z"
    }
   },
   "outputs": [
    {
     "data": {
      "text/html": [
       "\n",
       "        <div id=\"R7MFDNxmqptr9cw6fxN2hZ\"></div>\n",
       "        <script>netpixi.call('R7MFDNxmqptr9cw6fxN2hZ', 'C7RPULudYPA8gUCdrrJs3Y', 'setGraph', 'eyJ0eXBlIjogInZlcnRleCIsICJwcm9wcyI6IHsic3JjIjogInJlY2ViaW1lbnRvcyIsICJkc3QiOiAiX2tleSJ9fQo=');</script>\n",
       "    "
      ],
      "text/plain": [
       "<IPython.core.display.HTML object>"
      ]
     },
     "metadata": {},
     "output_type": "display_data"
    }
   ],
   "source": [
    "r.vertex_set_key('recebimentos')"
   ]
  },
  {
   "cell_type": "code",
   "execution_count": 122,
   "id": "fafdff7d-dfee-4cc3-9b47-3b790c26e2ba",
   "metadata": {
    "execution": {
     "iopub.execute_input": "2025-03-19T19:17:35.595253Z",
     "iopub.status.busy": "2025-03-19T19:17:35.594615Z",
     "iopub.status.idle": "2025-03-19T19:17:35.610930Z",
     "shell.execute_reply": "2025-03-19T19:17:35.609351Z",
     "shell.execute_reply.started": "2025-03-19T19:17:35.595213Z"
    }
   },
   "outputs": [
    {
     "data": {
      "text/html": [
       "\n",
       "        <div id=\"NBpcjDiTCMUHmPTEh6Cu9W\"></div>\n",
       "        <script>netpixi.call('NBpcjDiTCMUHmPTEh6Cu9W', 'C7RPULudYPA8gUCdrrJs3Y', 'setGraph', 'eyJ0eXBlIjogInZlcnRleCIsICJwcm9wcyI6IHsic3JjIjogImlkIiwgImRzdCI6ICJfa2V5In19Cg==');</script>\n",
       "    "
      ],
      "text/plain": [
       "<IPython.core.display.HTML object>"
      ]
     },
     "metadata": {},
     "output_type": "display_data"
    }
   ],
   "source": [
    "r.vertex_set_key('id')"
   ]
  },
  {
   "cell_type": "code",
   "execution_count": 123,
   "id": "e5efda79-2219-4e7c-900f-90af94ed76af",
   "metadata": {
    "execution": {
     "iopub.execute_input": "2025-03-19T19:17:36.108302Z",
     "iopub.status.busy": "2025-03-19T19:17:36.107548Z",
     "iopub.status.idle": "2025-03-19T19:17:36.125558Z",
     "shell.execute_reply": "2025-03-19T19:17:36.122548Z",
     "shell.execute_reply.started": "2025-03-19T19:17:36.108271Z"
    }
   },
   "outputs": [
    {
     "data": {
      "text/html": [
       "\n",
       "        <div id=\"iSN6Covtnac35CFXZiVtK9\"></div>\n",
       "        <script>netpixi.call('iSN6Covtnac35CFXZiVtK9', 'C7RPULudYPA8gUCdrrJs3Y', 'deleteGraph', 'eyJ0eXBlIjogInZlcnRleCIsICJwcm9wcyI6IHsic3JjIjogIl9rZXkifX0K');</script>\n",
       "    "
      ],
      "text/plain": [
       "<IPython.core.display.HTML object>"
      ]
     },
     "metadata": {},
     "output_type": "display_data"
    }
   ],
   "source": [
    "r.vertex_unset_key()"
   ]
  },
  {
   "cell_type": "code",
   "execution_count": 124,
   "id": "bacf6271-19b7-45d8-99a3-19b9f50f46b4",
   "metadata": {
    "execution": {
     "iopub.execute_input": "2025-03-19T19:17:36.519481Z",
     "iopub.status.busy": "2025-03-19T19:17:36.518576Z",
     "iopub.status.idle": "2025-03-19T19:17:36.530112Z",
     "shell.execute_reply": "2025-03-19T19:17:36.528315Z",
     "shell.execute_reply.started": "2025-03-19T19:17:36.519438Z"
    }
   },
   "outputs": [
    {
     "data": {
      "text/html": [
       "\n",
       "        <div id=\"Td57YtkUXDsTnioyQq7eeB\"></div>\n",
       "        <script>netpixi.call('Td57YtkUXDsTnioyQq7eeB', 'C7RPULudYPA8gUCdrrJs3Y', 'changeGraph', 'eyJ0eXBlIjogInNldHRpbmdzIiwgInByb3BzIjogeyJ2ZXJ0ZXgiOiB7InNpemUiOiA4LCAiYndpZHRoIjogMX19fQo=');</script>\n",
       "    "
      ],
      "text/plain": [
       "<IPython.core.display.HTML object>"
      ]
     },
     "metadata": {},
     "output_type": "display_data"
    }
   ],
   "source": [
    "r.vertex_default(size=8, bwidth=1)"
   ]
  },
  {
   "cell_type": "code",
   "execution_count": 125,
   "id": "03fc3fb9-169f-4833-8d51-1aefc498e556",
   "metadata": {
    "execution": {
     "iopub.execute_input": "2025-03-19T19:17:36.918133Z",
     "iopub.status.busy": "2025-03-19T19:17:36.917341Z",
     "iopub.status.idle": "2025-03-19T19:17:36.931999Z",
     "shell.execute_reply": "2025-03-19T19:17:36.929397Z",
     "shell.execute_reply.started": "2025-03-19T19:17:36.918097Z"
    }
   },
   "outputs": [
    {
     "data": {
      "text/html": [
       "\n",
       "        <div id=\"hwYEFGxu9n4fGq5wd7qhGX\"></div>\n",
       "        <script>netpixi.call('hwYEFGxu9n4fGq5wd7qhGX', 'C7RPULudYPA8gUCdrrJs3Y', 'changeGraph', 'eyJ0eXBlIjogInNldHRpbmdzIiwgInByb3BzIjogeyJlZGdlIjogeyJ3aWR0aCI6IDAuNX19fQo=');</script>\n",
       "    "
      ],
      "text/plain": [
       "<IPython.core.display.HTML object>"
      ]
     },
     "metadata": {},
     "output_type": "display_data"
    }
   ],
   "source": [
    "r.edge_default(width=0.5)"
   ]
  },
  {
   "cell_type": "code",
   "execution_count": 126,
   "id": "0aa86c96",
   "metadata": {
    "execution": {
     "iopub.execute_input": "2025-03-19T19:17:37.432462Z",
     "iopub.status.busy": "2025-03-19T19:17:37.431709Z",
     "iopub.status.idle": "2025-03-19T19:17:37.438823Z",
     "shell.execute_reply": "2025-03-19T19:17:37.437374Z",
     "shell.execute_reply.started": "2025-03-19T19:17:37.432432Z"
    }
   },
   "outputs": [
    {
     "name": "stdout",
     "output_type": "stream",
     "text": [
      "Número de vértices: 330\n",
      "Número de arestas: 751\n"
     ]
    }
   ],
   "source": [
    "print(f\"Número de vértices: {g.num_vertices()}\")\n",
    "print(f\"Número de arestas: {g.num_edges()}\")"
   ]
  },
  {
   "cell_type": "code",
   "execution_count": null,
   "id": "2bccfd2d",
   "metadata": {},
   "outputs": [],
   "source": []
  }
 ],
 "metadata": {
  "kernelspec": {
   "display_name": "Python 3 (ipykernel)",
   "language": "python",
   "name": "python3"
  },
  "language_info": {
   "codemirror_mode": {
    "name": "ipython",
    "version": 3
   },
   "file_extension": ".py",
   "mimetype": "text/x-python",
   "name": "python",
   "nbconvert_exporter": "python",
   "pygments_lexer": "ipython3",
   "version": "3.13.1"
  }
 },
 "nbformat": 4,
 "nbformat_minor": 5
}
